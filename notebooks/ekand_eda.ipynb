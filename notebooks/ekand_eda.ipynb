{
 "cells": [
  {
   "cell_type": "code",
   "execution_count": 1,
   "metadata": {},
   "outputs": [],
   "source": [
    "import pandas as pd\n",
    "import numpy as np\n",
    "import sys\n",
    "sys.path.append('./code')\n",
    "import get_mta_data as gmd\n",
    "import process_mta_data as pmd"
   ]
  },
  {
   "cell_type": "markdown",
   "metadata": {},
   "source": [
    "# Loading and Preprocessing Data\n",
    "First, let's load the data, clean up the column names, and add a datetime column, based on the entries in data and time"
   ]
  },
  {
   "cell_type": "code",
   "execution_count": 2,
   "metadata": {},
   "outputs": [],
   "source": [
    "mta = gmd.load_local_data([2018], [4])"
   ]
  },
  {
   "cell_type": "code",
   "execution_count": 3,
   "metadata": {},
   "outputs": [],
   "source": [
    "mta = pmd.clean_col_names(mta)"
   ]
  },
  {
   "cell_type": "code",
   "execution_count": 4,
   "metadata": {},
   "outputs": [],
   "source": [
    "mta = pmd.add_datetime(mta)"
   ]
  },
  {
   "cell_type": "code",
   "execution_count": 5,
   "metadata": {},
   "outputs": [
    {
     "data": {
      "text/html": [
       "<div>\n",
       "<style scoped>\n",
       "    .dataframe tbody tr th:only-of-type {\n",
       "        vertical-align: middle;\n",
       "    }\n",
       "\n",
       "    .dataframe tbody tr th {\n",
       "        vertical-align: top;\n",
       "    }\n",
       "\n",
       "    .dataframe thead th {\n",
       "        text-align: right;\n",
       "    }\n",
       "</style>\n",
       "<table border=\"1\" class=\"dataframe\">\n",
       "  <thead>\n",
       "    <tr style=\"text-align: right;\">\n",
       "      <th></th>\n",
       "      <th>C/A</th>\n",
       "      <th>UNIT</th>\n",
       "      <th>SCP</th>\n",
       "      <th>STATION</th>\n",
       "      <th>LINENAME</th>\n",
       "      <th>DIVISION</th>\n",
       "      <th>DATE</th>\n",
       "      <th>TIME</th>\n",
       "      <th>DESC</th>\n",
       "      <th>ENTRIES</th>\n",
       "      <th>EXITS</th>\n",
       "      <th>datetime</th>\n",
       "    </tr>\n",
       "  </thead>\n",
       "  <tbody>\n",
       "    <tr>\n",
       "      <th>0</th>\n",
       "      <td>A002</td>\n",
       "      <td>R051</td>\n",
       "      <td>02-00-00</td>\n",
       "      <td>59 ST</td>\n",
       "      <td>NQR456W</td>\n",
       "      <td>BMT</td>\n",
       "      <td>04/21/2018</td>\n",
       "      <td>00:00:00</td>\n",
       "      <td>REGULAR</td>\n",
       "      <td>6590024</td>\n",
       "      <td>2232650</td>\n",
       "      <td>2018-04-21 00:00:00</td>\n",
       "    </tr>\n",
       "    <tr>\n",
       "      <th>1</th>\n",
       "      <td>A002</td>\n",
       "      <td>R051</td>\n",
       "      <td>02-00-00</td>\n",
       "      <td>59 ST</td>\n",
       "      <td>NQR456W</td>\n",
       "      <td>BMT</td>\n",
       "      <td>04/21/2018</td>\n",
       "      <td>04:00:00</td>\n",
       "      <td>REGULAR</td>\n",
       "      <td>6590038</td>\n",
       "      <td>2232663</td>\n",
       "      <td>2018-04-21 04:00:00</td>\n",
       "    </tr>\n",
       "    <tr>\n",
       "      <th>2</th>\n",
       "      <td>A002</td>\n",
       "      <td>R051</td>\n",
       "      <td>02-00-00</td>\n",
       "      <td>59 ST</td>\n",
       "      <td>NQR456W</td>\n",
       "      <td>BMT</td>\n",
       "      <td>04/21/2018</td>\n",
       "      <td>08:00:00</td>\n",
       "      <td>REGULAR</td>\n",
       "      <td>6590050</td>\n",
       "      <td>2232693</td>\n",
       "      <td>2018-04-21 08:00:00</td>\n",
       "    </tr>\n",
       "    <tr>\n",
       "      <th>3</th>\n",
       "      <td>A002</td>\n",
       "      <td>R051</td>\n",
       "      <td>02-00-00</td>\n",
       "      <td>59 ST</td>\n",
       "      <td>NQR456W</td>\n",
       "      <td>BMT</td>\n",
       "      <td>04/21/2018</td>\n",
       "      <td>12:00:00</td>\n",
       "      <td>REGULAR</td>\n",
       "      <td>6590131</td>\n",
       "      <td>2232766</td>\n",
       "      <td>2018-04-21 12:00:00</td>\n",
       "    </tr>\n",
       "    <tr>\n",
       "      <th>4</th>\n",
       "      <td>A002</td>\n",
       "      <td>R051</td>\n",
       "      <td>02-00-00</td>\n",
       "      <td>59 ST</td>\n",
       "      <td>NQR456W</td>\n",
       "      <td>BMT</td>\n",
       "      <td>04/21/2018</td>\n",
       "      <td>16:00:00</td>\n",
       "      <td>REGULAR</td>\n",
       "      <td>6590350</td>\n",
       "      <td>2232816</td>\n",
       "      <td>2018-04-21 16:00:00</td>\n",
       "    </tr>\n",
       "    <tr>\n",
       "      <th>...</th>\n",
       "      <td>...</td>\n",
       "      <td>...</td>\n",
       "      <td>...</td>\n",
       "      <td>...</td>\n",
       "      <td>...</td>\n",
       "      <td>...</td>\n",
       "      <td>...</td>\n",
       "      <td>...</td>\n",
       "      <td>...</td>\n",
       "      <td>...</td>\n",
       "      <td>...</td>\n",
       "      <td>...</td>\n",
       "    </tr>\n",
       "    <tr>\n",
       "      <th>788341</th>\n",
       "      <td>TRAM2</td>\n",
       "      <td>R469</td>\n",
       "      <td>00-03-01</td>\n",
       "      <td>RIT-ROOSEVELT</td>\n",
       "      <td>R</td>\n",
       "      <td>RIT</td>\n",
       "      <td>04/06/2018</td>\n",
       "      <td>05:00:00</td>\n",
       "      <td>REGULAR</td>\n",
       "      <td>2869725</td>\n",
       "      <td>385736</td>\n",
       "      <td>2018-04-06 05:00:00</td>\n",
       "    </tr>\n",
       "    <tr>\n",
       "      <th>788342</th>\n",
       "      <td>TRAM2</td>\n",
       "      <td>R469</td>\n",
       "      <td>00-03-01</td>\n",
       "      <td>RIT-ROOSEVELT</td>\n",
       "      <td>R</td>\n",
       "      <td>RIT</td>\n",
       "      <td>04/06/2018</td>\n",
       "      <td>09:00:00</td>\n",
       "      <td>REGULAR</td>\n",
       "      <td>2869735</td>\n",
       "      <td>385736</td>\n",
       "      <td>2018-04-06 09:00:00</td>\n",
       "    </tr>\n",
       "    <tr>\n",
       "      <th>788343</th>\n",
       "      <td>TRAM2</td>\n",
       "      <td>R469</td>\n",
       "      <td>00-03-01</td>\n",
       "      <td>RIT-ROOSEVELT</td>\n",
       "      <td>R</td>\n",
       "      <td>RIT</td>\n",
       "      <td>04/06/2018</td>\n",
       "      <td>13:00:00</td>\n",
       "      <td>REGULAR</td>\n",
       "      <td>2869816</td>\n",
       "      <td>385739</td>\n",
       "      <td>2018-04-06 13:00:00</td>\n",
       "    </tr>\n",
       "    <tr>\n",
       "      <th>788344</th>\n",
       "      <td>TRAM2</td>\n",
       "      <td>R469</td>\n",
       "      <td>00-03-01</td>\n",
       "      <td>RIT-ROOSEVELT</td>\n",
       "      <td>R</td>\n",
       "      <td>RIT</td>\n",
       "      <td>04/06/2018</td>\n",
       "      <td>17:00:00</td>\n",
       "      <td>REGULAR</td>\n",
       "      <td>2869949</td>\n",
       "      <td>385744</td>\n",
       "      <td>2018-04-06 17:00:00</td>\n",
       "    </tr>\n",
       "    <tr>\n",
       "      <th>788345</th>\n",
       "      <td>TRAM2</td>\n",
       "      <td>R469</td>\n",
       "      <td>00-03-01</td>\n",
       "      <td>RIT-ROOSEVELT</td>\n",
       "      <td>R</td>\n",
       "      <td>RIT</td>\n",
       "      <td>04/06/2018</td>\n",
       "      <td>21:00:00</td>\n",
       "      <td>REGULAR</td>\n",
       "      <td>2870062</td>\n",
       "      <td>385749</td>\n",
       "      <td>2018-04-06 21:00:00</td>\n",
       "    </tr>\n",
       "  </tbody>\n",
       "</table>\n",
       "<p>788346 rows × 12 columns</p>\n",
       "</div>"
      ],
      "text/plain": [
       "          C/A  UNIT       SCP        STATION LINENAME DIVISION        DATE  \\\n",
       "0        A002  R051  02-00-00          59 ST  NQR456W      BMT  04/21/2018   \n",
       "1        A002  R051  02-00-00          59 ST  NQR456W      BMT  04/21/2018   \n",
       "2        A002  R051  02-00-00          59 ST  NQR456W      BMT  04/21/2018   \n",
       "3        A002  R051  02-00-00          59 ST  NQR456W      BMT  04/21/2018   \n",
       "4        A002  R051  02-00-00          59 ST  NQR456W      BMT  04/21/2018   \n",
       "...       ...   ...       ...            ...      ...      ...         ...   \n",
       "788341  TRAM2  R469  00-03-01  RIT-ROOSEVELT        R      RIT  04/06/2018   \n",
       "788342  TRAM2  R469  00-03-01  RIT-ROOSEVELT        R      RIT  04/06/2018   \n",
       "788343  TRAM2  R469  00-03-01  RIT-ROOSEVELT        R      RIT  04/06/2018   \n",
       "788344  TRAM2  R469  00-03-01  RIT-ROOSEVELT        R      RIT  04/06/2018   \n",
       "788345  TRAM2  R469  00-03-01  RIT-ROOSEVELT        R      RIT  04/06/2018   \n",
       "\n",
       "            TIME     DESC  ENTRIES    EXITS            datetime  \n",
       "0       00:00:00  REGULAR  6590024  2232650 2018-04-21 00:00:00  \n",
       "1       04:00:00  REGULAR  6590038  2232663 2018-04-21 04:00:00  \n",
       "2       08:00:00  REGULAR  6590050  2232693 2018-04-21 08:00:00  \n",
       "3       12:00:00  REGULAR  6590131  2232766 2018-04-21 12:00:00  \n",
       "4       16:00:00  REGULAR  6590350  2232816 2018-04-21 16:00:00  \n",
       "...          ...      ...      ...      ...                 ...  \n",
       "788341  05:00:00  REGULAR  2869725   385736 2018-04-06 05:00:00  \n",
       "788342  09:00:00  REGULAR  2869735   385736 2018-04-06 09:00:00  \n",
       "788343  13:00:00  REGULAR  2869816   385739 2018-04-06 13:00:00  \n",
       "788344  17:00:00  REGULAR  2869949   385744 2018-04-06 17:00:00  \n",
       "788345  21:00:00  REGULAR  2870062   385749 2018-04-06 21:00:00  \n",
       "\n",
       "[788346 rows x 12 columns]"
      ]
     },
     "execution_count": 5,
     "metadata": {},
     "output_type": "execute_result"
    }
   ],
   "source": [
    "mta"
   ]
  },
  {
   "cell_type": "markdown",
   "metadata": {},
   "source": [
    "Looks good so far!\n"
   ]
  },
  {
   "cell_type": "markdown",
   "metadata": {},
   "source": [
    "## Inspecting the columns"
   ]
  },
  {
   "cell_type": "markdown",
   "metadata": {},
   "source": [
    "Let's see what's in each column of the data."
   ]
  },
  {
   "cell_type": "code",
   "execution_count": 6,
   "metadata": {},
   "outputs": [
    {
     "data": {
      "text/plain": [
       "Index(['C/A', 'UNIT', 'SCP', 'STATION', 'LINENAME', 'DIVISION', 'DATE', 'TIME',\n",
       "       'DESC', 'ENTRIES', 'EXITS', 'datetime'],\n",
       "      dtype='object')"
      ]
     },
     "execution_count": 6,
     "metadata": {},
     "output_type": "execute_result"
    }
   ],
   "source": [
    "mta.columns"
   ]
  },
  {
   "cell_type": "markdown",
   "metadata": {},
   "source": [
    "The mta website has a document with information on the various columns. Here's an excerpt from that file:\n",
    "Field Description\n",
    "\n",
    "C/A,UNIT,SCP,STATION,LINENAME,DIVISION,DATE,TIME,DESC,ENTRIES,EXITS\n",
    "\n",
    "\n",
    "C/A      = Control Area (A002)  \n",
    "UNIT     = Remote Unit for a station (R051)  \n",
    "SCP      = Subunit Channel Position represents an specific address for a device (02-00-00)  \n",
    "STATION  = Represents the station name the device is located at  \n",
    "LINENAME = Represents all train lines that can be boarded at this station  \n",
    "           Normally lines are represented by one character.  LINENAME 456NQR repersents train server for 4, 5, 6, N, Q, and R trains.  \n",
    "DIVISION = Represents the Line originally the station belonged to BMT, IRT, or IND   \n",
    "DATE     = Represents the date (MM-DD-YY)  \n",
    "TIME     = Represents the time (hh:mm:ss) for a scheduled audit event  \n",
    "DESc     = Represent the \"REGULAR\" scheduled audit event (Normally occurs every 4 hours)  \n",
    "           1. Audits may occur more that 4 hours due to planning, or troubleshooting activities.   \n",
    "           2. Additionally, there may be a \"RECOVR AUD\" entry: This refers to a missed audit that was recovered.   \n",
    "ENTRIES  = The comulative entry register value for a device  \n",
    "EXIST    = The cumulative exit register value for a device  \n",
    "\n",
    "\n",
    "\n",
    "Example:  \n",
    "The data below shows the entry/exit register values for one turnstile at control area (A002) from 09/27/14 at 00:00 hours to 09/29/14 at 00:00 hours  \n",
    "\n",
    "\n",
    "C/A,UNIT,SCP,STATION,LINENAME,DIVISION,DATE,TIME,DESC,ENTRIES,EXITS  \n",
    "A002,R051,02-00-00,LEXINGTON AVE,456NQR,BMT,09-27-14,00:00:00,REGULAR,0004800073,0001629137,  \n",
    "A002,R051,02-00-00,LEXINGTON AVE,456NQR,BMT,09-27-14,04:00:00,REGULAR,0004800125,0001629149,  \n",
    "A002,R051,02-00-00,LEXINGTON AVE,456NQR,BMT,09-27-14,08:00:00,REGULAR,0004800146,0001629162,  "
   ]
  },
  {
   "cell_type": "markdown",
   "metadata": {},
   "source": [
    "### Grouping by turnstyle\n",
    "According to the challenge questions, a turnstyle is identified by: C/A, UNIT, SCP, and STATION."
   ]
  },
  {
   "cell_type": "markdown",
   "metadata": {},
   "source": [
    "Let's try grouping by these things"
   ]
  },
  {
   "cell_type": "code",
   "execution_count": 33,
   "metadata": {},
   "outputs": [
    {
     "data": {
      "text/html": [
       "<div>\n",
       "<style scoped>\n",
       "    .dataframe tbody tr th:only-of-type {\n",
       "        vertical-align: middle;\n",
       "    }\n",
       "\n",
       "    .dataframe tbody tr th {\n",
       "        vertical-align: top;\n",
       "    }\n",
       "\n",
       "    .dataframe thead th {\n",
       "        text-align: right;\n",
       "    }\n",
       "</style>\n",
       "<table border=\"1\" class=\"dataframe\">\n",
       "  <thead>\n",
       "    <tr style=\"text-align: right;\">\n",
       "      <th></th>\n",
       "      <th>ENTRIES</th>\n",
       "    </tr>\n",
       "    <tr>\n",
       "      <th>turnstile_id</th>\n",
       "      <th></th>\n",
       "    </tr>\n",
       "  </thead>\n",
       "  <tbody>\n",
       "    <tr>\n",
       "      <th>A002R05102-00-00</th>\n",
       "      <td>6.580823e+06</td>\n",
       "    </tr>\n",
       "    <tr>\n",
       "      <th>A002R05102-00-01</th>\n",
       "      <td>5.900872e+06</td>\n",
       "    </tr>\n",
       "    <tr>\n",
       "      <th>A002R05102-03-00</th>\n",
       "      <td>1.061938e+06</td>\n",
       "    </tr>\n",
       "    <tr>\n",
       "      <th>A002R05102-03-01</th>\n",
       "      <td>6.560952e+05</td>\n",
       "    </tr>\n",
       "    <tr>\n",
       "      <th>A002R05102-03-02</th>\n",
       "      <td>5.738634e+06</td>\n",
       "    </tr>\n",
       "    <tr>\n",
       "      <th>...</th>\n",
       "      <td>...</td>\n",
       "    </tr>\n",
       "    <tr>\n",
       "      <th>TRAM1R46800-00-02</th>\n",
       "      <td>1.749284e+06</td>\n",
       "    </tr>\n",
       "    <tr>\n",
       "      <th>TRAM2R46900-00-00</th>\n",
       "      <td>4.038833e+06</td>\n",
       "    </tr>\n",
       "    <tr>\n",
       "      <th>TRAM2R46900-00-01</th>\n",
       "      <td>2.559396e+06</td>\n",
       "    </tr>\n",
       "    <tr>\n",
       "      <th>TRAM2R46900-03-00</th>\n",
       "      <td>5.139835e+05</td>\n",
       "    </tr>\n",
       "    <tr>\n",
       "      <th>TRAM2R46900-03-01</th>\n",
       "      <td>2.872324e+06</td>\n",
       "    </tr>\n",
       "  </tbody>\n",
       "</table>\n",
       "<p>4717 rows × 1 columns</p>\n",
       "</div>"
      ],
      "text/plain": [
       "                        ENTRIES\n",
       "turnstile_id                   \n",
       "A002R05102-00-00   6.580823e+06\n",
       "A002R05102-00-01   5.900872e+06\n",
       "A002R05102-03-00   1.061938e+06\n",
       "A002R05102-03-01   6.560952e+05\n",
       "A002R05102-03-02   5.738634e+06\n",
       "...                         ...\n",
       "TRAM1R46800-00-02  1.749284e+06\n",
       "TRAM2R46900-00-00  4.038833e+06\n",
       "TRAM2R46900-00-01  2.559396e+06\n",
       "TRAM2R46900-03-00  5.139835e+05\n",
       "TRAM2R46900-03-01  2.872324e+06\n",
       "\n",
       "[4717 rows x 1 columns]"
      ]
     },
     "execution_count": 33,
     "metadata": {},
     "output_type": "execute_result"
    }
   ],
   "source": [
    "df = mta\n",
    "df['turnstile_id'] = df['C/A'] + df['UNIT'] + df['SCP']\n",
    "groupby = df.groupby(['turnstile_id'])\n",
    "groupby.agg({\"ENTRIES\": \"mean\"})"
   ]
  },
  {
   "cell_type": "markdown",
   "metadata": {},
   "source": [
    "The number 4717 is significant: It's the number of turnstiles in the subway system. According to google (how many subway stations in new york), there are 472 stations, so that's an average of 10 turnstiles per station, which seems reasonable."
   ]
  },
  {
   "cell_type": "markdown",
   "metadata": {},
   "source": [
    "## Plotting one turnstile\n",
    "Let's plot the entries data for one arbitrarily selected turnstile."
   ]
  },
  {
   "cell_type": "code",
   "execution_count": 8,
   "metadata": {},
   "outputs": [],
   "source": [
    "df = mta\n",
    "turnstile_0 = df[ (df['C/A'] == 'A002') & (df['UNIT'] == 'R051') & (df['SCP'] == '02-00-00') & (df['STATION'] == '59 ST')]"
   ]
  },
  {
   "cell_type": "code",
   "execution_count": 9,
   "metadata": {},
   "outputs": [],
   "source": [
    "turnstile_0 = turnstile_0.set_index(('datetime'))"
   ]
  },
  {
   "cell_type": "code",
   "execution_count": 10,
   "metadata": {},
   "outputs": [
    {
     "data": {
      "text/plain": [
       "<matplotlib.axes._subplots.AxesSubplot at 0x11cf0a150>"
      ]
     },
     "execution_count": 10,
     "metadata": {},
     "output_type": "execute_result"
    },
    {
     "data": {
      "image/png": "[encoded data removed]",
      "text/plain": [
       "<Figure size 432x288 with 1 Axes>"
      ]
     },
     "metadata": {
      "needs_background": "light"
     },
     "output_type": "display_data"
    }
   ],
   "source": [
    "turnstile_0['ENTRIES'].plot()"
   ]
  },
  {
   "cell_type": "code",
   "execution_count": 25,
   "metadata": {},
   "outputs": [],
   "source": [
    "df = mta\n",
    "df['turnstile_id'] = df['C/A'] + df['UNIT'] + df['SCP']"
   ]
  },
  {
   "cell_type": "code",
   "execution_count": 26,
   "metadata": {},
   "outputs": [
    {
     "data": {
      "text/html": [
       "<div>\n",
       "<style scoped>\n",
       "    .dataframe tbody tr th:only-of-type {\n",
       "        vertical-align: middle;\n",
       "    }\n",
       "\n",
       "    .dataframe tbody tr th {\n",
       "        vertical-align: top;\n",
       "    }\n",
       "\n",
       "    .dataframe thead th {\n",
       "        text-align: right;\n",
       "    }\n",
       "</style>\n",
       "<table border=\"1\" class=\"dataframe\">\n",
       "  <thead>\n",
       "    <tr style=\"text-align: right;\">\n",
       "      <th></th>\n",
       "      <th>ENTRIES</th>\n",
       "    </tr>\n",
       "    <tr>\n",
       "      <th>turnstile_id</th>\n",
       "      <th></th>\n",
       "    </tr>\n",
       "  </thead>\n",
       "  <tbody>\n",
       "    <tr>\n",
       "      <th>A002R05102-00-00</th>\n",
       "      <td>6.580823e+06</td>\n",
       "    </tr>\n",
       "    <tr>\n",
       "      <th>A002R05102-00-01</th>\n",
       "      <td>5.900872e+06</td>\n",
       "    </tr>\n",
       "    <tr>\n",
       "      <th>A002R05102-03-00</th>\n",
       "      <td>1.061938e+06</td>\n",
       "    </tr>\n",
       "    <tr>\n",
       "      <th>A002R05102-03-01</th>\n",
       "      <td>6.560952e+05</td>\n",
       "    </tr>\n",
       "    <tr>\n",
       "      <th>A002R05102-03-02</th>\n",
       "      <td>5.738634e+06</td>\n",
       "    </tr>\n",
       "    <tr>\n",
       "      <th>...</th>\n",
       "      <td>...</td>\n",
       "    </tr>\n",
       "    <tr>\n",
       "      <th>TRAM1R46800-00-02</th>\n",
       "      <td>1.749284e+06</td>\n",
       "    </tr>\n",
       "    <tr>\n",
       "      <th>TRAM2R46900-00-00</th>\n",
       "      <td>4.038833e+06</td>\n",
       "    </tr>\n",
       "    <tr>\n",
       "      <th>TRAM2R46900-00-01</th>\n",
       "      <td>2.559396e+06</td>\n",
       "    </tr>\n",
       "    <tr>\n",
       "      <th>TRAM2R46900-03-00</th>\n",
       "      <td>5.139835e+05</td>\n",
       "    </tr>\n",
       "    <tr>\n",
       "      <th>TRAM2R46900-03-01</th>\n",
       "      <td>2.872324e+06</td>\n",
       "    </tr>\n",
       "  </tbody>\n",
       "</table>\n",
       "<p>4717 rows × 1 columns</p>\n",
       "</div>"
      ],
      "text/plain": [
       "                        ENTRIES\n",
       "turnstile_id                   \n",
       "A002R05102-00-00   6.580823e+06\n",
       "A002R05102-00-01   5.900872e+06\n",
       "A002R05102-03-00   1.061938e+06\n",
       "A002R05102-03-01   6.560952e+05\n",
       "A002R05102-03-02   5.738634e+06\n",
       "...                         ...\n",
       "TRAM1R46800-00-02  1.749284e+06\n",
       "TRAM2R46900-00-00  4.038833e+06\n",
       "TRAM2R46900-00-01  2.559396e+06\n",
       "TRAM2R46900-03-00  5.139835e+05\n",
       "TRAM2R46900-03-01  2.872324e+06\n",
       "\n",
       "[4717 rows x 1 columns]"
      ]
     },
     "execution_count": 26,
     "metadata": {},
     "output_type": "execute_result"
    }
   ],
   "source": [
    "groupby = df.groupby(['my_feature'])\n",
    "groupby.agg({\"ENTRIES\": \"mean\"})"
   ]
  },
  {
   "cell_type": "code",
   "execution_count": null,
   "metadata": {},
   "outputs": [],
   "source": []
  }
 ],
 "metadata": {
  "kernelspec": {
   "display_name": "Python 3",
   "language": "python",
   "name": "python3"
  },
  "language_info": {
   "codemirror_mode": {
    "name": "ipython",
    "version": 3
   },
   "file_extension": ".py",
   "mimetype": "text/x-python",
   "name": "python",
   "nbconvert_exporter": "python",
   "pygments_lexer": "ipython3",
   "version": "3.7.4"
  }
 },
 "nbformat": 4,
 "nbformat_minor": 2
}
