{
 "cells": [
  {
   "cell_type": "markdown",
   "metadata": {},
   "source": [
    "## Aim: combine my work with solution"
   ]
  },
  {
   "cell_type": "markdown",
   "metadata": {},
   "source": [
    "There are some parts of the Benson Solutions I like, and some parts where I like my approach better. I'm going to attempt to blend the two here"
   ]
  },
  {
   "cell_type": "code",
   "execution_count": 1,
   "metadata": {},
   "outputs": [],
   "source": [
    "import pandas as pd\n",
    "import numpy as np\n",
    "%matplotlib inline\n",
    "import matplotlib.pyplot as plt\n",
    "import matplotlib.dates as mdates\n",
    "\n",
    "\n",
    "import sys\n",
    "sys.path.append('./code')\n",
    "import get_mta_data as gmd\n",
    "import process_mta_data as pmd\n",
    "\n",
    "# import datetime\n",
    "from datetime import datetime as dt"
   ]
  },
  {
   "cell_type": "code",
   "execution_count": null,
   "metadata": {},
   "outputs": [],
   "source": []
  },
  {
   "cell_type": "markdown",
   "metadata": {},
   "source": [
    "## import data"
   ]
  },
  {
   "cell_type": "code",
   "execution_count": 2,
   "metadata": {
    "pycharm": {
     "name": "#%%\n"
    }
   },
   "outputs": [],
   "source": [
    "mta = gmd.load_local_data([2019], [4])"
   ]
  },
  {
   "cell_type": "markdown",
   "metadata": {},
   "source": [
    "## Tidy up data"
   ]
  },
  {
   "cell_type": "markdown",
   "metadata": {},
   "source": [
    "The functions that are becoming standard for us."
   ]
  },
  {
   "cell_type": "code",
   "execution_count": 3,
   "metadata": {
    "pycharm": {
     "name": "#%%\n"
    }
   },
   "outputs": [],
   "source": [
    "mta = pmd.clean_col_names(mta)"
   ]
  },
  {
   "cell_type": "code",
   "execution_count": 4,
   "metadata": {
    "pycharm": {
     "name": "#%%\n"
    }
   },
   "outputs": [],
   "source": [
    "mta = pmd.add_datetime(mta)"
   ]
  },
  {
   "cell_type": "code",
   "execution_count": 5,
   "metadata": {
    "pycharm": {
     "name": "#%%\n"
    }
   },
   "outputs": [],
   "source": [
    "mta = pmd.convert_date_to_datetime(mta)\n",
    "\n"
   ]
  },
  {
   "cell_type": "markdown",
   "metadata": {},
   "source": [
    "For convenience, add a 'turnstile_id' column"
   ]
  },
  {
   "cell_type": "code",
   "execution_count": 6,
   "metadata": {},
   "outputs": [],
   "source": [
    "mta['turnstile_id'] = mta.CA + mta.UNIT + mta.SCP"
   ]
  },
  {
   "cell_type": "markdown",
   "metadata": {},
   "source": [
    "Find and remove duplicate values"
   ]
  },
  {
   "cell_type": "code",
   "execution_count": 7,
   "metadata": {
    "pycharm": {
     "name": "#%%\n"
    }
   },
   "outputs": [
    {
     "data": {
      "text/plain": [
       "REGULAR       747615\n",
       "RECOVR AUD      3621\n",
       "Name: DESC, dtype: int64"
      ]
     },
     "execution_count": 7,
     "metadata": {},
     "output_type": "execute_result"
    }
   ],
   "source": [
    "mta.DESC.value_counts()"
   ]
  },
  {
   "cell_type": "markdown",
   "metadata": {},
   "source": [
    "There are 3621 rows with 'RECOVER AUD'. In Lara's presentation, these were shown to be be duplicates in at least some cases. We will remove them all."
   ]
  },
  {
   "cell_type": "code",
   "execution_count": 8,
   "metadata": {
    "pycharm": {
     "name": "#%%\n"
    }
   },
   "outputs": [
    {
     "data": {
      "text/plain": [
       "REGULAR    747615\n",
       "Name: DESC, dtype: int64"
      ]
     },
     "execution_count": 8,
     "metadata": {},
     "output_type": "execute_result"
    }
   ],
   "source": [
    "mta = mta[mta.DESC != 'RECOVR AUD']\n",
    "mta.DESC.value_counts()"
   ]
  },
  {
   "cell_type": "markdown",
   "metadata": {},
   "source": [
    "This confirms that the 'RECOVER AUD' entries have been removed"
   ]
  },
  {
   "cell_type": "markdown",
   "metadata": {},
   "source": [
    "Here's what the data looks like now:"
   ]
  },
  {
   "cell_type": "code",
   "execution_count": 9,
   "metadata": {
    "pycharm": {
     "name": "#%%\n"
    }
   },
   "outputs": [
    {
     "data": {
      "text/html": [
       "<div>\n",
       "<style scoped>\n",
       "    .dataframe tbody tr th:only-of-type {\n",
       "        vertical-align: middle;\n",
       "    }\n",
       "\n",
       "    .dataframe tbody tr th {\n",
       "        vertical-align: top;\n",
       "    }\n",
       "\n",
       "    .dataframe thead th {\n",
       "        text-align: right;\n",
       "    }\n",
       "</style>\n",
       "<table border=\"1\" class=\"dataframe\">\n",
       "  <thead>\n",
       "    <tr style=\"text-align: right;\">\n",
       "      <th></th>\n",
       "      <th>CA</th>\n",
       "      <th>UNIT</th>\n",
       "      <th>SCP</th>\n",
       "      <th>STATION</th>\n",
       "      <th>LINENAME</th>\n",
       "      <th>DIVISION</th>\n",
       "      <th>DATE</th>\n",
       "      <th>TIME</th>\n",
       "      <th>DESC</th>\n",
       "      <th>ENTRIES</th>\n",
       "      <th>EXITS</th>\n",
       "      <th>datetime</th>\n",
       "      <th>turnstile_id</th>\n",
       "    </tr>\n",
       "  </thead>\n",
       "  <tbody>\n",
       "    <tr>\n",
       "      <th>0</th>\n",
       "      <td>A002</td>\n",
       "      <td>R051</td>\n",
       "      <td>02-00-00</td>\n",
       "      <td>59 ST</td>\n",
       "      <td>NQR456W</td>\n",
       "      <td>BMT</td>\n",
       "      <td>2019-03-30</td>\n",
       "      <td>00:00:00</td>\n",
       "      <td>REGULAR</td>\n",
       "      <td>6999064</td>\n",
       "      <td>2373568</td>\n",
       "      <td>2019-03-30 00:00:00</td>\n",
       "      <td>A002R05102-00-00</td>\n",
       "    </tr>\n",
       "    <tr>\n",
       "      <th>1</th>\n",
       "      <td>A002</td>\n",
       "      <td>R051</td>\n",
       "      <td>02-00-00</td>\n",
       "      <td>59 ST</td>\n",
       "      <td>NQR456W</td>\n",
       "      <td>BMT</td>\n",
       "      <td>2019-03-30</td>\n",
       "      <td>04:00:00</td>\n",
       "      <td>REGULAR</td>\n",
       "      <td>6999084</td>\n",
       "      <td>2373576</td>\n",
       "      <td>2019-03-30 04:00:00</td>\n",
       "      <td>A002R05102-00-00</td>\n",
       "    </tr>\n",
       "    <tr>\n",
       "      <th>2</th>\n",
       "      <td>A002</td>\n",
       "      <td>R051</td>\n",
       "      <td>02-00-00</td>\n",
       "      <td>59 ST</td>\n",
       "      <td>NQR456W</td>\n",
       "      <td>BMT</td>\n",
       "      <td>2019-03-30</td>\n",
       "      <td>08:00:00</td>\n",
       "      <td>REGULAR</td>\n",
       "      <td>6999107</td>\n",
       "      <td>2373622</td>\n",
       "      <td>2019-03-30 08:00:00</td>\n",
       "      <td>A002R05102-00-00</td>\n",
       "    </tr>\n",
       "    <tr>\n",
       "      <th>3</th>\n",
       "      <td>A002</td>\n",
       "      <td>R051</td>\n",
       "      <td>02-00-00</td>\n",
       "      <td>59 ST</td>\n",
       "      <td>NQR456W</td>\n",
       "      <td>BMT</td>\n",
       "      <td>2019-03-30</td>\n",
       "      <td>12:00:00</td>\n",
       "      <td>REGULAR</td>\n",
       "      <td>6999214</td>\n",
       "      <td>2373710</td>\n",
       "      <td>2019-03-30 12:00:00</td>\n",
       "      <td>A002R05102-00-00</td>\n",
       "    </tr>\n",
       "    <tr>\n",
       "      <th>4</th>\n",
       "      <td>A002</td>\n",
       "      <td>R051</td>\n",
       "      <td>02-00-00</td>\n",
       "      <td>59 ST</td>\n",
       "      <td>NQR456W</td>\n",
       "      <td>BMT</td>\n",
       "      <td>2019-03-30</td>\n",
       "      <td>16:00:00</td>\n",
       "      <td>REGULAR</td>\n",
       "      <td>6999451</td>\n",
       "      <td>2373781</td>\n",
       "      <td>2019-03-30 16:00:00</td>\n",
       "      <td>A002R05102-00-00</td>\n",
       "    </tr>\n",
       "  </tbody>\n",
       "</table>\n",
       "</div>"
      ],
      "text/plain": [
       "     CA  UNIT       SCP STATION LINENAME DIVISION       DATE      TIME  \\\n",
       "0  A002  R051  02-00-00   59 ST  NQR456W      BMT 2019-03-30  00:00:00   \n",
       "1  A002  R051  02-00-00   59 ST  NQR456W      BMT 2019-03-30  04:00:00   \n",
       "2  A002  R051  02-00-00   59 ST  NQR456W      BMT 2019-03-30  08:00:00   \n",
       "3  A002  R051  02-00-00   59 ST  NQR456W      BMT 2019-03-30  12:00:00   \n",
       "4  A002  R051  02-00-00   59 ST  NQR456W      BMT 2019-03-30  16:00:00   \n",
       "\n",
       "      DESC  ENTRIES    EXITS            datetime      turnstile_id  \n",
       "0  REGULAR  6999064  2373568 2019-03-30 00:00:00  A002R05102-00-00  \n",
       "1  REGULAR  6999084  2373576 2019-03-30 04:00:00  A002R05102-00-00  \n",
       "2  REGULAR  6999107  2373622 2019-03-30 08:00:00  A002R05102-00-00  \n",
       "3  REGULAR  6999214  2373710 2019-03-30 12:00:00  A002R05102-00-00  \n",
       "4  REGULAR  6999451  2373781 2019-03-30 16:00:00  A002R05102-00-00  "
      ]
     },
     "execution_count": 9,
     "metadata": {},
     "output_type": "execute_result"
    }
   ],
   "source": [
    "mta.head()"
   ]
  },
  {
   "cell_type": "markdown",
   "metadata": {},
   "source": [
    "Let's check datetime for value counts"
   ]
  },
  {
   "cell_type": "code",
   "execution_count": 10,
   "metadata": {},
   "outputs": [
    {
     "data": {
      "text/plain": [
       "16:00:00    63450\n",
       "04:00:00    63418\n",
       "00:00:00    63394\n",
       "20:00:00    63370\n",
       "08:00:00    63331\n",
       "            ...  \n",
       "16:52:32        1\n",
       "14:45:15        1\n",
       "20:09:35        1\n",
       "09:23:58        1\n",
       "06:58:50        1\n",
       "Name: datetime, Length: 30247, dtype: int64"
      ]
     },
     "execution_count": 10,
     "metadata": {},
     "output_type": "execute_result"
    }
   ],
   "source": [
    "mta.datetime.dt.time.value_counts()"
   ]
  },
  {
   "cell_type": "markdown",
   "metadata": {},
   "source": [
    "This shows that there are some entries at odd times. There appear to be more at standardized times.  \n",
    "So, let's isolate those at 00:00:00 time"
   ]
  },
  {
   "cell_type": "code",
   "execution_count": 11,
   "metadata": {},
   "outputs": [
    {
     "data": {
      "text/plain": [
       "00:00:00    63394\n",
       "Name: datetime, dtype: int64"
      ]
     },
     "execution_count": 11,
     "metadata": {},
     "output_type": "execute_result"
    }
   ],
   "source": [
    "mask = mta['datetime'].dt.time == dt(2016, 1, 1, 0, 0, 0).time() # date is arbitrary, important part is time\n",
    "mta = mta[mask]\n",
    "mta.datetime.dt.time.value_counts()"
   ]
  },
  {
   "cell_type": "markdown",
   "metadata": {},
   "source": [
    "This confirms that all entries are now at midnight"
   ]
  },
  {
   "cell_type": "markdown",
   "metadata": {},
   "source": [
    "Now, check that \"CA\", \"UNIT\", \"SCP\", \"STATION\", \"datetime\" is unique\n"
   ]
  },
  {
   "cell_type": "code",
   "execution_count": 12,
   "metadata": {},
   "outputs": [
    {
     "data": {
      "text/plain": [
       "0        1\n",
       "42252    1\n",
       "42254    1\n",
       "42255    1\n",
       "42256    1\n",
       "        ..\n",
       "21136    1\n",
       "21137    1\n",
       "21138    1\n",
       "21139    1\n",
       "63393    1\n",
       "Name: ENTRIES, Length: 63394, dtype: int64"
      ]
     },
     "execution_count": 12,
     "metadata": {},
     "output_type": "execute_result"
    }
   ],
   "source": [
    "mta_groups_1 = (mta\n",
    " .groupby([\"CA\", \"UNIT\", \"SCP\", \"STATION\", \"datetime\"])\n",
    " .ENTRIES.count()\n",
    " .reset_index()\n",
    " .sort_values(\"ENTRIES\", ascending=False))\n",
    "mta_groups_1.ENTRIES"
   ]
  },
  {
   "cell_type": "markdown",
   "metadata": {},
   "source": [
    "Okay, that shows that the rows are all unique in terms of \"CA\", \"UNIT\", \"SCP\", \"STATION\", and \"datetime\"."
   ]
  },
  {
   "cell_type": "markdown",
   "metadata": {},
   "source": [
    "Let's check that turnstile_id groupby gives the same result"
   ]
  },
  {
   "cell_type": "code",
   "execution_count": 13,
   "metadata": {},
   "outputs": [
    {
     "data": {
      "text/plain": [
       "0        1\n",
       "42252    1\n",
       "42254    1\n",
       "42255    1\n",
       "42256    1\n",
       "        ..\n",
       "21136    1\n",
       "21137    1\n",
       "21138    1\n",
       "21139    1\n",
       "63393    1\n",
       "Name: ENTRIES, Length: 63394, dtype: int64"
      ]
     },
     "execution_count": 13,
     "metadata": {},
     "output_type": "execute_result"
    }
   ],
   "source": [
    "mta_groups_2 = (mta\n",
    "    .groupby(['turnstile_id', 'datetime'])\n",
    "    ['ENTRIES'].count()\n",
    "    .reset_index()\n",
    "    .sort_values(\"ENTRIES\", ascending=False))\n",
    "mta_groups_2.ENTRIES"
   ]
  },
  {
   "cell_type": "code",
   "execution_count": 14,
   "metadata": {},
   "outputs": [],
   "source": [
    "assert (mta_groups_2.ENTRIES == mta_groups_1.ENTRIES).all()"
   ]
  },
  {
   "cell_type": "markdown",
   "metadata": {},
   "source": [
    "The assertion passed, confirming that those two are the same, so I can use them equivalently"
   ]
  },
  {
   "cell_type": "code",
   "execution_count": 15,
   "metadata": {},
   "outputs": [],
   "source": [
    "turnstiles_daily = (mta.groupby([\"CA\", \"UNIT\", \"SCP\", \"STATION\", \"DATE\"])\n",
    "                    ['ENTRIES', 'datetime', 'turnstile_id'].first()).reset_index()"
   ]
  },
  {
   "cell_type": "code",
   "execution_count": 16,
   "metadata": {},
   "outputs": [
    {
     "data": {
      "text/html": [
       "<div>\n",
       "<style scoped>\n",
       "    .dataframe tbody tr th:only-of-type {\n",
       "        vertical-align: middle;\n",
       "    }\n",
       "\n",
       "    .dataframe tbody tr th {\n",
       "        vertical-align: top;\n",
       "    }\n",
       "\n",
       "    .dataframe thead th {\n",
       "        text-align: right;\n",
       "    }\n",
       "</style>\n",
       "<table border=\"1\" class=\"dataframe\">\n",
       "  <thead>\n",
       "    <tr style=\"text-align: right;\">\n",
       "      <th></th>\n",
       "      <th>CA</th>\n",
       "      <th>UNIT</th>\n",
       "      <th>SCP</th>\n",
       "      <th>STATION</th>\n",
       "      <th>DATE</th>\n",
       "      <th>ENTRIES</th>\n",
       "      <th>datetime</th>\n",
       "      <th>turnstile_id</th>\n",
       "    </tr>\n",
       "  </thead>\n",
       "  <tbody>\n",
       "    <tr>\n",
       "      <th>0</th>\n",
       "      <td>A002</td>\n",
       "      <td>R051</td>\n",
       "      <td>02-00-00</td>\n",
       "      <td>59 ST</td>\n",
       "      <td>2019-03-30</td>\n",
       "      <td>6999064</td>\n",
       "      <td>2019-03-30</td>\n",
       "      <td>A002R05102-00-00</td>\n",
       "    </tr>\n",
       "    <tr>\n",
       "      <th>1</th>\n",
       "      <td>A002</td>\n",
       "      <td>R051</td>\n",
       "      <td>02-00-00</td>\n",
       "      <td>59 ST</td>\n",
       "      <td>2019-03-31</td>\n",
       "      <td>6999957</td>\n",
       "      <td>2019-03-31</td>\n",
       "      <td>A002R05102-00-00</td>\n",
       "    </tr>\n",
       "    <tr>\n",
       "      <th>2</th>\n",
       "      <td>A002</td>\n",
       "      <td>R051</td>\n",
       "      <td>02-00-00</td>\n",
       "      <td>59 ST</td>\n",
       "      <td>2019-04-01</td>\n",
       "      <td>7000528</td>\n",
       "      <td>2019-04-01</td>\n",
       "      <td>A002R05102-00-00</td>\n",
       "    </tr>\n",
       "    <tr>\n",
       "      <th>3</th>\n",
       "      <td>A002</td>\n",
       "      <td>R051</td>\n",
       "      <td>02-00-00</td>\n",
       "      <td>59 ST</td>\n",
       "      <td>2019-04-02</td>\n",
       "      <td>7002087</td>\n",
       "      <td>2019-04-02</td>\n",
       "      <td>A002R05102-00-00</td>\n",
       "    </tr>\n",
       "    <tr>\n",
       "      <th>4</th>\n",
       "      <td>A002</td>\n",
       "      <td>R051</td>\n",
       "      <td>02-00-00</td>\n",
       "      <td>59 ST</td>\n",
       "      <td>2019-04-03</td>\n",
       "      <td>7003680</td>\n",
       "      <td>2019-04-03</td>\n",
       "      <td>A002R05102-00-00</td>\n",
       "    </tr>\n",
       "    <tr>\n",
       "      <th>...</th>\n",
       "      <td>...</td>\n",
       "      <td>...</td>\n",
       "      <td>...</td>\n",
       "      <td>...</td>\n",
       "      <td>...</td>\n",
       "      <td>...</td>\n",
       "      <td>...</td>\n",
       "      <td>...</td>\n",
       "    </tr>\n",
       "    <tr>\n",
       "      <th>63389</th>\n",
       "      <td>S101A</td>\n",
       "      <td>R070</td>\n",
       "      <td>01-05-01</td>\n",
       "      <td>ST. GEORGE</td>\n",
       "      <td>2019-04-15</td>\n",
       "      <td>625</td>\n",
       "      <td>2019-04-15</td>\n",
       "      <td>S101AR07001-05-01</td>\n",
       "    </tr>\n",
       "    <tr>\n",
       "      <th>63390</th>\n",
       "      <td>S101A</td>\n",
       "      <td>R070</td>\n",
       "      <td>01-05-01</td>\n",
       "      <td>ST. GEORGE</td>\n",
       "      <td>2019-04-16</td>\n",
       "      <td>626</td>\n",
       "      <td>2019-04-16</td>\n",
       "      <td>S101AR07001-05-01</td>\n",
       "    </tr>\n",
       "    <tr>\n",
       "      <th>63391</th>\n",
       "      <td>S101A</td>\n",
       "      <td>R070</td>\n",
       "      <td>01-05-01</td>\n",
       "      <td>ST. GEORGE</td>\n",
       "      <td>2019-04-17</td>\n",
       "      <td>626</td>\n",
       "      <td>2019-04-17</td>\n",
       "      <td>S101AR07001-05-01</td>\n",
       "    </tr>\n",
       "    <tr>\n",
       "      <th>63392</th>\n",
       "      <td>S101A</td>\n",
       "      <td>R070</td>\n",
       "      <td>01-05-01</td>\n",
       "      <td>ST. GEORGE</td>\n",
       "      <td>2019-04-18</td>\n",
       "      <td>626</td>\n",
       "      <td>2019-04-18</td>\n",
       "      <td>S101AR07001-05-01</td>\n",
       "    </tr>\n",
       "    <tr>\n",
       "      <th>63393</th>\n",
       "      <td>S101A</td>\n",
       "      <td>R070</td>\n",
       "      <td>01-05-01</td>\n",
       "      <td>ST. GEORGE</td>\n",
       "      <td>2019-04-19</td>\n",
       "      <td>626</td>\n",
       "      <td>2019-04-19</td>\n",
       "      <td>S101AR07001-05-01</td>\n",
       "    </tr>\n",
       "  </tbody>\n",
       "</table>\n",
       "<p>63394 rows × 8 columns</p>\n",
       "</div>"
      ],
      "text/plain": [
       "          CA  UNIT       SCP     STATION       DATE  ENTRIES   datetime  \\\n",
       "0       A002  R051  02-00-00       59 ST 2019-03-30  6999064 2019-03-30   \n",
       "1       A002  R051  02-00-00       59 ST 2019-03-31  6999957 2019-03-31   \n",
       "2       A002  R051  02-00-00       59 ST 2019-04-01  7000528 2019-04-01   \n",
       "3       A002  R051  02-00-00       59 ST 2019-04-02  7002087 2019-04-02   \n",
       "4       A002  R051  02-00-00       59 ST 2019-04-03  7003680 2019-04-03   \n",
       "...      ...   ...       ...         ...        ...      ...        ...   \n",
       "63389  S101A  R070  01-05-01  ST. GEORGE 2019-04-15      625 2019-04-15   \n",
       "63390  S101A  R070  01-05-01  ST. GEORGE 2019-04-16      626 2019-04-16   \n",
       "63391  S101A  R070  01-05-01  ST. GEORGE 2019-04-17      626 2019-04-17   \n",
       "63392  S101A  R070  01-05-01  ST. GEORGE 2019-04-18      626 2019-04-18   \n",
       "63393  S101A  R070  01-05-01  ST. GEORGE 2019-04-19      626 2019-04-19   \n",
       "\n",
       "            turnstile_id  \n",
       "0       A002R05102-00-00  \n",
       "1       A002R05102-00-00  \n",
       "2       A002R05102-00-00  \n",
       "3       A002R05102-00-00  \n",
       "4       A002R05102-00-00  \n",
       "...                  ...  \n",
       "63389  S101AR07001-05-01  \n",
       "63390  S101AR07001-05-01  \n",
       "63391  S101AR07001-05-01  \n",
       "63392  S101AR07001-05-01  \n",
       "63393  S101AR07001-05-01  \n",
       "\n",
       "[63394 rows x 8 columns]"
      ]
     },
     "execution_count": 16,
     "metadata": {},
     "output_type": "execute_result"
    }
   ],
   "source": [
    "turnstiles_daily"
   ]
  },
  {
   "cell_type": "markdown",
   "metadata": {},
   "source": [
    "Add columns for previous date and previous entries"
   ]
  },
  {
   "cell_type": "code",
   "execution_count": 17,
   "metadata": {},
   "outputs": [],
   "source": [
    "turnstiles_daily[[\"PREV_DATE\", \"PREV_ENTRIES\", 'datetime']] = (turnstiles_daily\n",
    "                                                       .groupby([\"CA\", \"UNIT\", \"SCP\", \"STATION\"])[\"DATE\", \"ENTRIES\", 'datetime']\n",
    "                                                       .transform(lambda grp: grp.shift(1)))\n"
   ]
  },
  {
   "cell_type": "markdown",
   "metadata": {},
   "source": [
    "And add a today - prev column"
   ]
  },
  {
   "cell_type": "code",
   "execution_count": 18,
   "metadata": {},
   "outputs": [],
   "source": [
    "turnstiles_daily['day_minus_prev_entries'] = (turnstiles_daily.ENTRIES - turnstiles_daily.PREV_ENTRIES)"
   ]
  },
  {
   "cell_type": "code",
   "execution_count": 19,
   "metadata": {},
   "outputs": [
    {
     "data": {
      "text/html": [
       "<div>\n",
       "<style scoped>\n",
       "    .dataframe tbody tr th:only-of-type {\n",
       "        vertical-align: middle;\n",
       "    }\n",
       "\n",
       "    .dataframe tbody tr th {\n",
       "        vertical-align: top;\n",
       "    }\n",
       "\n",
       "    .dataframe thead th {\n",
       "        text-align: right;\n",
       "    }\n",
       "</style>\n",
       "<table border=\"1\" class=\"dataframe\">\n",
       "  <thead>\n",
       "    <tr style=\"text-align: right;\">\n",
       "      <th></th>\n",
       "      <th>CA</th>\n",
       "      <th>UNIT</th>\n",
       "      <th>SCP</th>\n",
       "      <th>STATION</th>\n",
       "      <th>DATE</th>\n",
       "      <th>ENTRIES</th>\n",
       "      <th>datetime</th>\n",
       "      <th>turnstile_id</th>\n",
       "      <th>PREV_DATE</th>\n",
       "      <th>PREV_ENTRIES</th>\n",
       "      <th>day_minus_prev_entries</th>\n",
       "    </tr>\n",
       "  </thead>\n",
       "  <tbody>\n",
       "    <tr>\n",
       "      <th>0</th>\n",
       "      <td>A002</td>\n",
       "      <td>R051</td>\n",
       "      <td>02-00-00</td>\n",
       "      <td>59 ST</td>\n",
       "      <td>2019-03-30</td>\n",
       "      <td>6999064</td>\n",
       "      <td>NaT</td>\n",
       "      <td>A002R05102-00-00</td>\n",
       "      <td>NaT</td>\n",
       "      <td>NaN</td>\n",
       "      <td>NaN</td>\n",
       "    </tr>\n",
       "    <tr>\n",
       "      <th>1</th>\n",
       "      <td>A002</td>\n",
       "      <td>R051</td>\n",
       "      <td>02-00-00</td>\n",
       "      <td>59 ST</td>\n",
       "      <td>2019-03-31</td>\n",
       "      <td>6999957</td>\n",
       "      <td>2019-03-30</td>\n",
       "      <td>A002R05102-00-00</td>\n",
       "      <td>2019-03-30</td>\n",
       "      <td>6999064.0</td>\n",
       "      <td>893.0</td>\n",
       "    </tr>\n",
       "    <tr>\n",
       "      <th>2</th>\n",
       "      <td>A002</td>\n",
       "      <td>R051</td>\n",
       "      <td>02-00-00</td>\n",
       "      <td>59 ST</td>\n",
       "      <td>2019-04-01</td>\n",
       "      <td>7000528</td>\n",
       "      <td>2019-03-31</td>\n",
       "      <td>A002R05102-00-00</td>\n",
       "      <td>2019-03-31</td>\n",
       "      <td>6999957.0</td>\n",
       "      <td>571.0</td>\n",
       "    </tr>\n",
       "    <tr>\n",
       "      <th>3</th>\n",
       "      <td>A002</td>\n",
       "      <td>R051</td>\n",
       "      <td>02-00-00</td>\n",
       "      <td>59 ST</td>\n",
       "      <td>2019-04-02</td>\n",
       "      <td>7002087</td>\n",
       "      <td>2019-04-01</td>\n",
       "      <td>A002R05102-00-00</td>\n",
       "      <td>2019-04-01</td>\n",
       "      <td>7000528.0</td>\n",
       "      <td>1559.0</td>\n",
       "    </tr>\n",
       "    <tr>\n",
       "      <th>4</th>\n",
       "      <td>A002</td>\n",
       "      <td>R051</td>\n",
       "      <td>02-00-00</td>\n",
       "      <td>59 ST</td>\n",
       "      <td>2019-04-03</td>\n",
       "      <td>7003680</td>\n",
       "      <td>2019-04-02</td>\n",
       "      <td>A002R05102-00-00</td>\n",
       "      <td>2019-04-02</td>\n",
       "      <td>7002087.0</td>\n",
       "      <td>1593.0</td>\n",
       "    </tr>\n",
       "  </tbody>\n",
       "</table>\n",
       "</div>"
      ],
      "text/plain": [
       "     CA  UNIT       SCP STATION       DATE  ENTRIES   datetime  \\\n",
       "0  A002  R051  02-00-00   59 ST 2019-03-30  6999064        NaT   \n",
       "1  A002  R051  02-00-00   59 ST 2019-03-31  6999957 2019-03-30   \n",
       "2  A002  R051  02-00-00   59 ST 2019-04-01  7000528 2019-03-31   \n",
       "3  A002  R051  02-00-00   59 ST 2019-04-02  7002087 2019-04-01   \n",
       "4  A002  R051  02-00-00   59 ST 2019-04-03  7003680 2019-04-02   \n",
       "\n",
       "       turnstile_id  PREV_DATE  PREV_ENTRIES  day_minus_prev_entries  \n",
       "0  A002R05102-00-00        NaT           NaN                     NaN  \n",
       "1  A002R05102-00-00 2019-03-30     6999064.0                   893.0  \n",
       "2  A002R05102-00-00 2019-03-31     6999957.0                   571.0  \n",
       "3  A002R05102-00-00 2019-04-01     7000528.0                  1559.0  \n",
       "4  A002R05102-00-00 2019-04-02     7002087.0                  1593.0  "
      ]
     },
     "execution_count": 19,
     "metadata": {},
     "output_type": "execute_result"
    }
   ],
   "source": [
    "turnstiles_daily.head()"
   ]
  },
  {
   "cell_type": "code",
   "execution_count": 20,
   "metadata": {},
   "outputs": [
    {
     "data": {
      "text/html": [
       "<div>\n",
       "<style scoped>\n",
       "    .dataframe tbody tr th:only-of-type {\n",
       "        vertical-align: middle;\n",
       "    }\n",
       "\n",
       "    .dataframe tbody tr th {\n",
       "        vertical-align: top;\n",
       "    }\n",
       "\n",
       "    .dataframe thead th {\n",
       "        text-align: right;\n",
       "    }\n",
       "</style>\n",
       "<table border=\"1\" class=\"dataframe\">\n",
       "  <thead>\n",
       "    <tr style=\"text-align: right;\">\n",
       "      <th></th>\n",
       "      <th>CA</th>\n",
       "      <th>UNIT</th>\n",
       "      <th>SCP</th>\n",
       "      <th>STATION</th>\n",
       "      <th>DATE</th>\n",
       "      <th>ENTRIES</th>\n",
       "      <th>datetime</th>\n",
       "      <th>turnstile_id</th>\n",
       "      <th>PREV_DATE</th>\n",
       "      <th>PREV_ENTRIES</th>\n",
       "      <th>day_minus_prev_entries</th>\n",
       "    </tr>\n",
       "  </thead>\n",
       "  <tbody>\n",
       "    <tr>\n",
       "      <th>63389</th>\n",
       "      <td>S101A</td>\n",
       "      <td>R070</td>\n",
       "      <td>01-05-01</td>\n",
       "      <td>ST. GEORGE</td>\n",
       "      <td>2019-04-15</td>\n",
       "      <td>625</td>\n",
       "      <td>2019-04-14</td>\n",
       "      <td>S101AR07001-05-01</td>\n",
       "      <td>2019-04-14</td>\n",
       "      <td>625.0</td>\n",
       "      <td>0.0</td>\n",
       "    </tr>\n",
       "    <tr>\n",
       "      <th>63390</th>\n",
       "      <td>S101A</td>\n",
       "      <td>R070</td>\n",
       "      <td>01-05-01</td>\n",
       "      <td>ST. GEORGE</td>\n",
       "      <td>2019-04-16</td>\n",
       "      <td>626</td>\n",
       "      <td>2019-04-15</td>\n",
       "      <td>S101AR07001-05-01</td>\n",
       "      <td>2019-04-15</td>\n",
       "      <td>625.0</td>\n",
       "      <td>1.0</td>\n",
       "    </tr>\n",
       "    <tr>\n",
       "      <th>63391</th>\n",
       "      <td>S101A</td>\n",
       "      <td>R070</td>\n",
       "      <td>01-05-01</td>\n",
       "      <td>ST. GEORGE</td>\n",
       "      <td>2019-04-17</td>\n",
       "      <td>626</td>\n",
       "      <td>2019-04-16</td>\n",
       "      <td>S101AR07001-05-01</td>\n",
       "      <td>2019-04-16</td>\n",
       "      <td>626.0</td>\n",
       "      <td>0.0</td>\n",
       "    </tr>\n",
       "    <tr>\n",
       "      <th>63392</th>\n",
       "      <td>S101A</td>\n",
       "      <td>R070</td>\n",
       "      <td>01-05-01</td>\n",
       "      <td>ST. GEORGE</td>\n",
       "      <td>2019-04-18</td>\n",
       "      <td>626</td>\n",
       "      <td>2019-04-17</td>\n",
       "      <td>S101AR07001-05-01</td>\n",
       "      <td>2019-04-17</td>\n",
       "      <td>626.0</td>\n",
       "      <td>0.0</td>\n",
       "    </tr>\n",
       "    <tr>\n",
       "      <th>63393</th>\n",
       "      <td>S101A</td>\n",
       "      <td>R070</td>\n",
       "      <td>01-05-01</td>\n",
       "      <td>ST. GEORGE</td>\n",
       "      <td>2019-04-19</td>\n",
       "      <td>626</td>\n",
       "      <td>2019-04-18</td>\n",
       "      <td>S101AR07001-05-01</td>\n",
       "      <td>2019-04-18</td>\n",
       "      <td>626.0</td>\n",
       "      <td>0.0</td>\n",
       "    </tr>\n",
       "  </tbody>\n",
       "</table>\n",
       "</div>"
      ],
      "text/plain": [
       "          CA  UNIT       SCP     STATION       DATE  ENTRIES   datetime  \\\n",
       "63389  S101A  R070  01-05-01  ST. GEORGE 2019-04-15      625 2019-04-14   \n",
       "63390  S101A  R070  01-05-01  ST. GEORGE 2019-04-16      626 2019-04-15   \n",
       "63391  S101A  R070  01-05-01  ST. GEORGE 2019-04-17      626 2019-04-16   \n",
       "63392  S101A  R070  01-05-01  ST. GEORGE 2019-04-18      626 2019-04-17   \n",
       "63393  S101A  R070  01-05-01  ST. GEORGE 2019-04-19      626 2019-04-18   \n",
       "\n",
       "            turnstile_id  PREV_DATE  PREV_ENTRIES  day_minus_prev_entries  \n",
       "63389  S101AR07001-05-01 2019-04-14         625.0                     0.0  \n",
       "63390  S101AR07001-05-01 2019-04-15         625.0                     1.0  \n",
       "63391  S101AR07001-05-01 2019-04-16         626.0                     0.0  \n",
       "63392  S101AR07001-05-01 2019-04-17         626.0                     0.0  \n",
       "63393  S101AR07001-05-01 2019-04-18         626.0                     0.0  "
      ]
     },
     "execution_count": 20,
     "metadata": {},
     "output_type": "execute_result"
    }
   ],
   "source": [
    "turnstiles_daily.tail()"
   ]
  },
  {
   "cell_type": "markdown",
   "metadata": {},
   "source": [
    "Drop the first date rows that have NaN entries"
   ]
  },
  {
   "cell_type": "code",
   "execution_count": 21,
   "metadata": {},
   "outputs": [],
   "source": [
    "turnstiles_daily.dropna(subset=[\"PREV_DATE\"], axis=0, inplace=True)"
   ]
  },
  {
   "cell_type": "code",
   "execution_count": 22,
   "metadata": {},
   "outputs": [
    {
     "data": {
      "text/html": [
       "<div>\n",
       "<style scoped>\n",
       "    .dataframe tbody tr th:only-of-type {\n",
       "        vertical-align: middle;\n",
       "    }\n",
       "\n",
       "    .dataframe tbody tr th {\n",
       "        vertical-align: top;\n",
       "    }\n",
       "\n",
       "    .dataframe thead th {\n",
       "        text-align: right;\n",
       "    }\n",
       "</style>\n",
       "<table border=\"1\" class=\"dataframe\">\n",
       "  <thead>\n",
       "    <tr style=\"text-align: right;\">\n",
       "      <th></th>\n",
       "      <th>CA</th>\n",
       "      <th>UNIT</th>\n",
       "      <th>SCP</th>\n",
       "      <th>STATION</th>\n",
       "      <th>DATE</th>\n",
       "      <th>ENTRIES</th>\n",
       "      <th>datetime</th>\n",
       "      <th>turnstile_id</th>\n",
       "      <th>PREV_DATE</th>\n",
       "      <th>PREV_ENTRIES</th>\n",
       "      <th>day_minus_prev_entries</th>\n",
       "    </tr>\n",
       "  </thead>\n",
       "  <tbody>\n",
       "    <tr>\n",
       "      <th>1</th>\n",
       "      <td>A002</td>\n",
       "      <td>R051</td>\n",
       "      <td>02-00-00</td>\n",
       "      <td>59 ST</td>\n",
       "      <td>2019-03-31</td>\n",
       "      <td>6999957</td>\n",
       "      <td>2019-03-30</td>\n",
       "      <td>A002R05102-00-00</td>\n",
       "      <td>2019-03-30</td>\n",
       "      <td>6999064.0</td>\n",
       "      <td>893.0</td>\n",
       "    </tr>\n",
       "    <tr>\n",
       "      <th>2</th>\n",
       "      <td>A002</td>\n",
       "      <td>R051</td>\n",
       "      <td>02-00-00</td>\n",
       "      <td>59 ST</td>\n",
       "      <td>2019-04-01</td>\n",
       "      <td>7000528</td>\n",
       "      <td>2019-03-31</td>\n",
       "      <td>A002R05102-00-00</td>\n",
       "      <td>2019-03-31</td>\n",
       "      <td>6999957.0</td>\n",
       "      <td>571.0</td>\n",
       "    </tr>\n",
       "    <tr>\n",
       "      <th>3</th>\n",
       "      <td>A002</td>\n",
       "      <td>R051</td>\n",
       "      <td>02-00-00</td>\n",
       "      <td>59 ST</td>\n",
       "      <td>2019-04-02</td>\n",
       "      <td>7002087</td>\n",
       "      <td>2019-04-01</td>\n",
       "      <td>A002R05102-00-00</td>\n",
       "      <td>2019-04-01</td>\n",
       "      <td>7000528.0</td>\n",
       "      <td>1559.0</td>\n",
       "    </tr>\n",
       "    <tr>\n",
       "      <th>4</th>\n",
       "      <td>A002</td>\n",
       "      <td>R051</td>\n",
       "      <td>02-00-00</td>\n",
       "      <td>59 ST</td>\n",
       "      <td>2019-04-03</td>\n",
       "      <td>7003680</td>\n",
       "      <td>2019-04-02</td>\n",
       "      <td>A002R05102-00-00</td>\n",
       "      <td>2019-04-02</td>\n",
       "      <td>7002087.0</td>\n",
       "      <td>1593.0</td>\n",
       "    </tr>\n",
       "    <tr>\n",
       "      <th>5</th>\n",
       "      <td>A002</td>\n",
       "      <td>R051</td>\n",
       "      <td>02-00-00</td>\n",
       "      <td>59 ST</td>\n",
       "      <td>2019-04-04</td>\n",
       "      <td>7005332</td>\n",
       "      <td>2019-04-03</td>\n",
       "      <td>A002R05102-00-00</td>\n",
       "      <td>2019-04-03</td>\n",
       "      <td>7003680.0</td>\n",
       "      <td>1652.0</td>\n",
       "    </tr>\n",
       "  </tbody>\n",
       "</table>\n",
       "</div>"
      ],
      "text/plain": [
       "     CA  UNIT       SCP STATION       DATE  ENTRIES   datetime  \\\n",
       "1  A002  R051  02-00-00   59 ST 2019-03-31  6999957 2019-03-30   \n",
       "2  A002  R051  02-00-00   59 ST 2019-04-01  7000528 2019-03-31   \n",
       "3  A002  R051  02-00-00   59 ST 2019-04-02  7002087 2019-04-01   \n",
       "4  A002  R051  02-00-00   59 ST 2019-04-03  7003680 2019-04-02   \n",
       "5  A002  R051  02-00-00   59 ST 2019-04-04  7005332 2019-04-03   \n",
       "\n",
       "       turnstile_id  PREV_DATE  PREV_ENTRIES  day_minus_prev_entries  \n",
       "1  A002R05102-00-00 2019-03-30     6999064.0                   893.0  \n",
       "2  A002R05102-00-00 2019-03-31     6999957.0                   571.0  \n",
       "3  A002R05102-00-00 2019-04-01     7000528.0                  1559.0  \n",
       "4  A002R05102-00-00 2019-04-02     7002087.0                  1593.0  \n",
       "5  A002R05102-00-00 2019-04-03     7003680.0                  1652.0  "
      ]
     },
     "execution_count": 22,
     "metadata": {},
     "output_type": "execute_result"
    }
   ],
   "source": [
    "turnstiles_daily.head()"
   ]
  },
  {
   "cell_type": "markdown",
   "metadata": {},
   "source": [
    "Sanity check that today's entries are greater than tomorrow's entries\n"
   ]
  },
  {
   "cell_type": "code",
   "execution_count": 23,
   "metadata": {},
   "outputs": [
    {
     "name": "stdout",
     "output_type": "stream",
     "text": [
      "assertion failed\n"
     ]
    }
   ],
   "source": [
    "try:\n",
    "    assert (turnstiles_daily[\"ENTRIES\"] > turnstiles_daily[\"PREV_ENTRIES\"]).all()\n",
    "except:\n",
    "    print(\"assertion failed\")"
   ]
  },
  {
   "cell_type": "markdown",
   "metadata": {},
   "source": [
    "Let's look at the rows where yesterday's counts are greater than today's counts"
   ]
  },
  {
   "cell_type": "code",
   "execution_count": 24,
   "metadata": {},
   "outputs": [
    {
     "data": {
      "text/html": [
       "<div>\n",
       "<style scoped>\n",
       "    .dataframe tbody tr th:only-of-type {\n",
       "        vertical-align: middle;\n",
       "    }\n",
       "\n",
       "    .dataframe tbody tr th {\n",
       "        vertical-align: top;\n",
       "    }\n",
       "\n",
       "    .dataframe thead th {\n",
       "        text-align: right;\n",
       "    }\n",
       "</style>\n",
       "<table border=\"1\" class=\"dataframe\">\n",
       "  <thead>\n",
       "    <tr style=\"text-align: right;\">\n",
       "      <th></th>\n",
       "      <th>CA</th>\n",
       "      <th>UNIT</th>\n",
       "      <th>SCP</th>\n",
       "      <th>STATION</th>\n",
       "      <th>DATE</th>\n",
       "      <th>ENTRIES</th>\n",
       "      <th>datetime</th>\n",
       "      <th>turnstile_id</th>\n",
       "      <th>PREV_DATE</th>\n",
       "      <th>PREV_ENTRIES</th>\n",
       "      <th>day_minus_prev_entries</th>\n",
       "    </tr>\n",
       "  </thead>\n",
       "  <tbody>\n",
       "    <tr>\n",
       "      <th>1800</th>\n",
       "      <td>A025</td>\n",
       "      <td>R023</td>\n",
       "      <td>01-03-01</td>\n",
       "      <td>34 ST-HERALD SQ</td>\n",
       "      <td>2019-03-31</td>\n",
       "      <td>1238567092</td>\n",
       "      <td>2019-03-30</td>\n",
       "      <td>A025R02301-03-01</td>\n",
       "      <td>2019-03-30</td>\n",
       "      <td>1.238570e+09</td>\n",
       "      <td>-2753.0</td>\n",
       "    </tr>\n",
       "    <tr>\n",
       "      <th>1801</th>\n",
       "      <td>A025</td>\n",
       "      <td>R023</td>\n",
       "      <td>01-03-01</td>\n",
       "      <td>34 ST-HERALD SQ</td>\n",
       "      <td>2019-04-01</td>\n",
       "      <td>1238565030</td>\n",
       "      <td>2019-03-31</td>\n",
       "      <td>A025R02301-03-01</td>\n",
       "      <td>2019-03-31</td>\n",
       "      <td>1.238567e+09</td>\n",
       "      <td>-2062.0</td>\n",
       "    </tr>\n",
       "    <tr>\n",
       "      <th>1802</th>\n",
       "      <td>A025</td>\n",
       "      <td>R023</td>\n",
       "      <td>01-03-01</td>\n",
       "      <td>34 ST-HERALD SQ</td>\n",
       "      <td>2019-04-02</td>\n",
       "      <td>1238561212</td>\n",
       "      <td>2019-04-01</td>\n",
       "      <td>A025R02301-03-01</td>\n",
       "      <td>2019-04-01</td>\n",
       "      <td>1.238565e+09</td>\n",
       "      <td>-3818.0</td>\n",
       "    </tr>\n",
       "    <tr>\n",
       "      <th>1803</th>\n",
       "      <td>A025</td>\n",
       "      <td>R023</td>\n",
       "      <td>01-03-01</td>\n",
       "      <td>34 ST-HERALD SQ</td>\n",
       "      <td>2019-04-03</td>\n",
       "      <td>1238557159</td>\n",
       "      <td>2019-04-02</td>\n",
       "      <td>A025R02301-03-01</td>\n",
       "      <td>2019-04-02</td>\n",
       "      <td>1.238561e+09</td>\n",
       "      <td>-4053.0</td>\n",
       "    </tr>\n",
       "    <tr>\n",
       "      <th>1804</th>\n",
       "      <td>A025</td>\n",
       "      <td>R023</td>\n",
       "      <td>01-03-01</td>\n",
       "      <td>34 ST-HERALD SQ</td>\n",
       "      <td>2019-04-04</td>\n",
       "      <td>1238553023</td>\n",
       "      <td>2019-04-03</td>\n",
       "      <td>A025R02301-03-01</td>\n",
       "      <td>2019-04-03</td>\n",
       "      <td>1.238557e+09</td>\n",
       "      <td>-4136.0</td>\n",
       "    </tr>\n",
       "  </tbody>\n",
       "</table>\n",
       "</div>"
      ],
      "text/plain": [
       "        CA  UNIT       SCP          STATION       DATE     ENTRIES   datetime  \\\n",
       "1800  A025  R023  01-03-01  34 ST-HERALD SQ 2019-03-31  1238567092 2019-03-30   \n",
       "1801  A025  R023  01-03-01  34 ST-HERALD SQ 2019-04-01  1238565030 2019-03-31   \n",
       "1802  A025  R023  01-03-01  34 ST-HERALD SQ 2019-04-02  1238561212 2019-04-01   \n",
       "1803  A025  R023  01-03-01  34 ST-HERALD SQ 2019-04-03  1238557159 2019-04-02   \n",
       "1804  A025  R023  01-03-01  34 ST-HERALD SQ 2019-04-04  1238553023 2019-04-03   \n",
       "\n",
       "          turnstile_id  PREV_DATE  PREV_ENTRIES  day_minus_prev_entries  \n",
       "1800  A025R02301-03-01 2019-03-30  1.238570e+09                 -2753.0  \n",
       "1801  A025R02301-03-01 2019-03-31  1.238567e+09                 -2062.0  \n",
       "1802  A025R02301-03-01 2019-04-01  1.238565e+09                 -3818.0  \n",
       "1803  A025R02301-03-01 2019-04-02  1.238561e+09                 -4053.0  \n",
       "1804  A025R02301-03-01 2019-04-03  1.238557e+09                 -4136.0  "
      ]
     },
     "execution_count": 24,
     "metadata": {},
     "output_type": "execute_result"
    }
   ],
   "source": [
    "yesterday_greater = turnstiles_daily[turnstiles_daily[\"ENTRIES\"] < turnstiles_daily[\"PREV_ENTRIES\"]]\n",
    "\n",
    "yesterday_greater.head()"
   ]
  },
  {
   "cell_type": "code",
   "execution_count": 25,
   "metadata": {},
   "outputs": [
    {
     "data": {
      "text/html": [
       "<div>\n",
       "<style scoped>\n",
       "    .dataframe tbody tr th:only-of-type {\n",
       "        vertical-align: middle;\n",
       "    }\n",
       "\n",
       "    .dataframe tbody tr th {\n",
       "        vertical-align: top;\n",
       "    }\n",
       "\n",
       "    .dataframe thead th {\n",
       "        text-align: right;\n",
       "    }\n",
       "</style>\n",
       "<table border=\"1\" class=\"dataframe\">\n",
       "  <thead>\n",
       "    <tr style=\"text-align: right;\">\n",
       "      <th></th>\n",
       "      <th>CA</th>\n",
       "      <th>UNIT</th>\n",
       "      <th>SCP</th>\n",
       "      <th>STATION</th>\n",
       "      <th>DATE</th>\n",
       "      <th>ENTRIES</th>\n",
       "      <th>datetime</th>\n",
       "      <th>PREV_DATE</th>\n",
       "      <th>PREV_ENTRIES</th>\n",
       "      <th>day_minus_prev_entries</th>\n",
       "    </tr>\n",
       "    <tr>\n",
       "      <th>turnstile_id</th>\n",
       "      <th></th>\n",
       "      <th></th>\n",
       "      <th></th>\n",
       "      <th></th>\n",
       "      <th></th>\n",
       "      <th></th>\n",
       "      <th></th>\n",
       "      <th></th>\n",
       "      <th></th>\n",
       "      <th></th>\n",
       "    </tr>\n",
       "  </thead>\n",
       "  <tbody>\n",
       "    <tr>\n",
       "      <th>A025R02301-03-01</th>\n",
       "      <td>26</td>\n",
       "      <td>26</td>\n",
       "      <td>26</td>\n",
       "      <td>26</td>\n",
       "      <td>26</td>\n",
       "      <td>26</td>\n",
       "      <td>26</td>\n",
       "      <td>26</td>\n",
       "      <td>26</td>\n",
       "      <td>26</td>\n",
       "    </tr>\n",
       "    <tr>\n",
       "      <th>A038R08500-00-01</th>\n",
       "      <td>1</td>\n",
       "      <td>1</td>\n",
       "      <td>1</td>\n",
       "      <td>1</td>\n",
       "      <td>1</td>\n",
       "      <td>1</td>\n",
       "      <td>1</td>\n",
       "      <td>1</td>\n",
       "      <td>1</td>\n",
       "      <td>1</td>\n",
       "    </tr>\n",
       "    <tr>\n",
       "      <th>A042R08601-00-04</th>\n",
       "      <td>1</td>\n",
       "      <td>1</td>\n",
       "      <td>1</td>\n",
       "      <td>1</td>\n",
       "      <td>1</td>\n",
       "      <td>1</td>\n",
       "      <td>1</td>\n",
       "      <td>1</td>\n",
       "      <td>1</td>\n",
       "      <td>1</td>\n",
       "    </tr>\n",
       "    <tr>\n",
       "      <th>A047R08700-06-02</th>\n",
       "      <td>1</td>\n",
       "      <td>1</td>\n",
       "      <td>1</td>\n",
       "      <td>1</td>\n",
       "      <td>1</td>\n",
       "      <td>1</td>\n",
       "      <td>1</td>\n",
       "      <td>1</td>\n",
       "      <td>1</td>\n",
       "      <td>1</td>\n",
       "    </tr>\n",
       "    <tr>\n",
       "      <th>C021R21200-00-02</th>\n",
       "      <td>27</td>\n",
       "      <td>27</td>\n",
       "      <td>27</td>\n",
       "      <td>27</td>\n",
       "      <td>27</td>\n",
       "      <td>27</td>\n",
       "      <td>27</td>\n",
       "      <td>27</td>\n",
       "      <td>27</td>\n",
       "      <td>27</td>\n",
       "    </tr>\n",
       "    <tr>\n",
       "      <th>H003R16301-00-02</th>\n",
       "      <td>27</td>\n",
       "      <td>27</td>\n",
       "      <td>27</td>\n",
       "      <td>27</td>\n",
       "      <td>27</td>\n",
       "      <td>27</td>\n",
       "      <td>27</td>\n",
       "      <td>27</td>\n",
       "      <td>27</td>\n",
       "      <td>27</td>\n",
       "    </tr>\n",
       "    <tr>\n",
       "      <th>H023R23600-06-00</th>\n",
       "      <td>27</td>\n",
       "      <td>27</td>\n",
       "      <td>27</td>\n",
       "      <td>27</td>\n",
       "      <td>27</td>\n",
       "      <td>27</td>\n",
       "      <td>27</td>\n",
       "      <td>27</td>\n",
       "      <td>27</td>\n",
       "      <td>27</td>\n",
       "    </tr>\n",
       "    <tr>\n",
       "      <th>J034R00700-00-02</th>\n",
       "      <td>27</td>\n",
       "      <td>27</td>\n",
       "      <td>27</td>\n",
       "      <td>27</td>\n",
       "      <td>27</td>\n",
       "      <td>27</td>\n",
       "      <td>27</td>\n",
       "      <td>27</td>\n",
       "      <td>27</td>\n",
       "      <td>27</td>\n",
       "    </tr>\n",
       "    <tr>\n",
       "      <th>K026R10000-00-01</th>\n",
       "      <td>27</td>\n",
       "      <td>27</td>\n",
       "      <td>27</td>\n",
       "      <td>27</td>\n",
       "      <td>27</td>\n",
       "      <td>27</td>\n",
       "      <td>27</td>\n",
       "      <td>27</td>\n",
       "      <td>27</td>\n",
       "      <td>27</td>\n",
       "    </tr>\n",
       "    <tr>\n",
       "      <th>N006AR28000-00-00</th>\n",
       "      <td>26</td>\n",
       "      <td>26</td>\n",
       "      <td>26</td>\n",
       "      <td>26</td>\n",
       "      <td>26</td>\n",
       "      <td>26</td>\n",
       "      <td>26</td>\n",
       "      <td>26</td>\n",
       "      <td>26</td>\n",
       "      <td>26</td>\n",
       "    </tr>\n",
       "  </tbody>\n",
       "</table>\n",
       "</div>"
      ],
      "text/plain": [
       "                   CA  UNIT  SCP  STATION  DATE  ENTRIES  datetime  PREV_DATE  \\\n",
       "turnstile_id                                                                    \n",
       "A025R02301-03-01   26    26   26       26    26       26        26         26   \n",
       "A038R08500-00-01    1     1    1        1     1        1         1          1   \n",
       "A042R08601-00-04    1     1    1        1     1        1         1          1   \n",
       "A047R08700-06-02    1     1    1        1     1        1         1          1   \n",
       "C021R21200-00-02   27    27   27       27    27       27        27         27   \n",
       "H003R16301-00-02   27    27   27       27    27       27        27         27   \n",
       "H023R23600-06-00   27    27   27       27    27       27        27         27   \n",
       "J034R00700-00-02   27    27   27       27    27       27        27         27   \n",
       "K026R10000-00-01   27    27   27       27    27       27        27         27   \n",
       "N006AR28000-00-00  26    26   26       26    26       26        26         26   \n",
       "\n",
       "                   PREV_ENTRIES  day_minus_prev_entries  \n",
       "turnstile_id                                             \n",
       "A025R02301-03-01             26                      26  \n",
       "A038R08500-00-01              1                       1  \n",
       "A042R08601-00-04              1                       1  \n",
       "A047R08700-06-02              1                       1  \n",
       "C021R21200-00-02             27                      27  \n",
       "H003R16301-00-02             27                      27  \n",
       "H023R23600-06-00             27                      27  \n",
       "J034R00700-00-02             27                      27  \n",
       "K026R10000-00-01             27                      27  \n",
       "N006AR28000-00-00            26                      26  "
      ]
     },
     "execution_count": 25,
     "metadata": {},
     "output_type": "execute_result"
    }
   ],
   "source": [
    "yesterday_greater.groupby(['turnstile_id']).count().head(10)"
   ]
  },
  {
   "cell_type": "markdown",
   "metadata": {},
   "source": [
    "Many of these have 27 entries. Let's check out one"
   ]
  },
  {
   "cell_type": "code",
   "execution_count": 26,
   "metadata": {},
   "outputs": [
    {
     "data": {
      "text/html": [
       "<div>\n",
       "<style scoped>\n",
       "    .dataframe tbody tr th:only-of-type {\n",
       "        vertical-align: middle;\n",
       "    }\n",
       "\n",
       "    .dataframe tbody tr th {\n",
       "        vertical-align: top;\n",
       "    }\n",
       "\n",
       "    .dataframe thead th {\n",
       "        text-align: right;\n",
       "    }\n",
       "</style>\n",
       "<table border=\"1\" class=\"dataframe\">\n",
       "  <thead>\n",
       "    <tr style=\"text-align: right;\">\n",
       "      <th></th>\n",
       "      <th>CA</th>\n",
       "      <th>UNIT</th>\n",
       "      <th>SCP</th>\n",
       "      <th>STATION</th>\n",
       "      <th>DATE</th>\n",
       "      <th>ENTRIES</th>\n",
       "      <th>datetime</th>\n",
       "      <th>turnstile_id</th>\n",
       "      <th>PREV_DATE</th>\n",
       "      <th>PREV_ENTRIES</th>\n",
       "      <th>day_minus_prev_entries</th>\n",
       "    </tr>\n",
       "  </thead>\n",
       "  <tbody>\n",
       "    <tr>\n",
       "      <th>9536</th>\n",
       "      <td>C021</td>\n",
       "      <td>R212</td>\n",
       "      <td>00-00-02</td>\n",
       "      <td>59 ST</td>\n",
       "      <td>2019-03-31</td>\n",
       "      <td>2029814690</td>\n",
       "      <td>2019-03-30</td>\n",
       "      <td>C021R21200-00-02</td>\n",
       "      <td>2019-03-30</td>\n",
       "      <td>2.029816e+09</td>\n",
       "      <td>-966.0</td>\n",
       "    </tr>\n",
       "    <tr>\n",
       "      <th>9537</th>\n",
       "      <td>C021</td>\n",
       "      <td>R212</td>\n",
       "      <td>00-00-02</td>\n",
       "      <td>59 ST</td>\n",
       "      <td>2019-04-01</td>\n",
       "      <td>2029814081</td>\n",
       "      <td>2019-03-31</td>\n",
       "      <td>C021R21200-00-02</td>\n",
       "      <td>2019-03-31</td>\n",
       "      <td>2.029815e+09</td>\n",
       "      <td>-609.0</td>\n",
       "    </tr>\n",
       "    <tr>\n",
       "      <th>9538</th>\n",
       "      <td>C021</td>\n",
       "      <td>R212</td>\n",
       "      <td>00-00-02</td>\n",
       "      <td>59 ST</td>\n",
       "      <td>2019-04-02</td>\n",
       "      <td>2029812726</td>\n",
       "      <td>2019-04-01</td>\n",
       "      <td>C021R21200-00-02</td>\n",
       "      <td>2019-04-01</td>\n",
       "      <td>2.029814e+09</td>\n",
       "      <td>-1355.0</td>\n",
       "    </tr>\n",
       "    <tr>\n",
       "      <th>9539</th>\n",
       "      <td>C021</td>\n",
       "      <td>R212</td>\n",
       "      <td>00-00-02</td>\n",
       "      <td>59 ST</td>\n",
       "      <td>2019-04-03</td>\n",
       "      <td>2029811072</td>\n",
       "      <td>2019-04-02</td>\n",
       "      <td>C021R21200-00-02</td>\n",
       "      <td>2019-04-02</td>\n",
       "      <td>2.029813e+09</td>\n",
       "      <td>-1654.0</td>\n",
       "    </tr>\n",
       "    <tr>\n",
       "      <th>9540</th>\n",
       "      <td>C021</td>\n",
       "      <td>R212</td>\n",
       "      <td>00-00-02</td>\n",
       "      <td>59 ST</td>\n",
       "      <td>2019-04-04</td>\n",
       "      <td>2029809414</td>\n",
       "      <td>2019-04-03</td>\n",
       "      <td>C021R21200-00-02</td>\n",
       "      <td>2019-04-03</td>\n",
       "      <td>2.029811e+09</td>\n",
       "      <td>-1658.0</td>\n",
       "    </tr>\n",
       "    <tr>\n",
       "      <th>9541</th>\n",
       "      <td>C021</td>\n",
       "      <td>R212</td>\n",
       "      <td>00-00-02</td>\n",
       "      <td>59 ST</td>\n",
       "      <td>2019-04-05</td>\n",
       "      <td>2029807782</td>\n",
       "      <td>2019-04-04</td>\n",
       "      <td>C021R21200-00-02</td>\n",
       "      <td>2019-04-04</td>\n",
       "      <td>2.029809e+09</td>\n",
       "      <td>-1632.0</td>\n",
       "    </tr>\n",
       "    <tr>\n",
       "      <th>9542</th>\n",
       "      <td>C021</td>\n",
       "      <td>R212</td>\n",
       "      <td>00-00-02</td>\n",
       "      <td>59 ST</td>\n",
       "      <td>2019-04-06</td>\n",
       "      <td>2029806237</td>\n",
       "      <td>2019-04-05</td>\n",
       "      <td>C021R21200-00-02</td>\n",
       "      <td>2019-04-05</td>\n",
       "      <td>2.029808e+09</td>\n",
       "      <td>-1545.0</td>\n",
       "    </tr>\n",
       "    <tr>\n",
       "      <th>9543</th>\n",
       "      <td>C021</td>\n",
       "      <td>R212</td>\n",
       "      <td>00-00-02</td>\n",
       "      <td>59 ST</td>\n",
       "      <td>2019-04-07</td>\n",
       "      <td>2029805316</td>\n",
       "      <td>2019-04-06</td>\n",
       "      <td>C021R21200-00-02</td>\n",
       "      <td>2019-04-06</td>\n",
       "      <td>2.029806e+09</td>\n",
       "      <td>-921.0</td>\n",
       "    </tr>\n",
       "    <tr>\n",
       "      <th>9544</th>\n",
       "      <td>C021</td>\n",
       "      <td>R212</td>\n",
       "      <td>00-00-02</td>\n",
       "      <td>59 ST</td>\n",
       "      <td>2019-04-08</td>\n",
       "      <td>2029804628</td>\n",
       "      <td>2019-04-07</td>\n",
       "      <td>C021R21200-00-02</td>\n",
       "      <td>2019-04-07</td>\n",
       "      <td>2.029805e+09</td>\n",
       "      <td>-688.0</td>\n",
       "    </tr>\n",
       "    <tr>\n",
       "      <th>9545</th>\n",
       "      <td>C021</td>\n",
       "      <td>R212</td>\n",
       "      <td>00-00-02</td>\n",
       "      <td>59 ST</td>\n",
       "      <td>2019-04-09</td>\n",
       "      <td>2029803065</td>\n",
       "      <td>2019-04-08</td>\n",
       "      <td>C021R21200-00-02</td>\n",
       "      <td>2019-04-08</td>\n",
       "      <td>2.029805e+09</td>\n",
       "      <td>-1563.0</td>\n",
       "    </tr>\n",
       "  </tbody>\n",
       "</table>\n",
       "</div>"
      ],
      "text/plain": [
       "        CA  UNIT       SCP STATION       DATE     ENTRIES   datetime  \\\n",
       "9536  C021  R212  00-00-02   59 ST 2019-03-31  2029814690 2019-03-30   \n",
       "9537  C021  R212  00-00-02   59 ST 2019-04-01  2029814081 2019-03-31   \n",
       "9538  C021  R212  00-00-02   59 ST 2019-04-02  2029812726 2019-04-01   \n",
       "9539  C021  R212  00-00-02   59 ST 2019-04-03  2029811072 2019-04-02   \n",
       "9540  C021  R212  00-00-02   59 ST 2019-04-04  2029809414 2019-04-03   \n",
       "9541  C021  R212  00-00-02   59 ST 2019-04-05  2029807782 2019-04-04   \n",
       "9542  C021  R212  00-00-02   59 ST 2019-04-06  2029806237 2019-04-05   \n",
       "9543  C021  R212  00-00-02   59 ST 2019-04-07  2029805316 2019-04-06   \n",
       "9544  C021  R212  00-00-02   59 ST 2019-04-08  2029804628 2019-04-07   \n",
       "9545  C021  R212  00-00-02   59 ST 2019-04-09  2029803065 2019-04-08   \n",
       "\n",
       "          turnstile_id  PREV_DATE  PREV_ENTRIES  day_minus_prev_entries  \n",
       "9536  C021R21200-00-02 2019-03-30  2.029816e+09                  -966.0  \n",
       "9537  C021R21200-00-02 2019-03-31  2.029815e+09                  -609.0  \n",
       "9538  C021R21200-00-02 2019-04-01  2.029814e+09                 -1355.0  \n",
       "9539  C021R21200-00-02 2019-04-02  2.029813e+09                 -1654.0  \n",
       "9540  C021R21200-00-02 2019-04-03  2.029811e+09                 -1658.0  \n",
       "9541  C021R21200-00-02 2019-04-04  2.029809e+09                 -1632.0  \n",
       "9542  C021R21200-00-02 2019-04-05  2.029808e+09                 -1545.0  \n",
       "9543  C021R21200-00-02 2019-04-06  2.029806e+09                  -921.0  \n",
       "9544  C021R21200-00-02 2019-04-07  2.029805e+09                  -688.0  \n",
       "9545  C021R21200-00-02 2019-04-08  2.029805e+09                 -1563.0  "
      ]
     },
     "execution_count": 26,
     "metadata": {},
     "output_type": "execute_result"
    }
   ],
   "source": [
    "turnstiles_daily[turnstiles_daily.turnstile_id == 'C021R21200-00-02'].sort_values('datetime').head(10)"
   ]
  },
  {
   "cell_type": "code",
   "execution_count": 27,
   "metadata": {},
   "outputs": [
    {
     "data": {
      "text/plain": [
       "CA                        60909\n",
       "UNIT                      60909\n",
       "SCP                       60909\n",
       "STATION                   60909\n",
       "DATE                      60909\n",
       "ENTRIES                   60909\n",
       "datetime                  60909\n",
       "turnstile_id              60909\n",
       "PREV_DATE                 60909\n",
       "PREV_ENTRIES              60909\n",
       "day_minus_prev_entries    60909\n",
       "dtype: int64"
      ]
     },
     "execution_count": 27,
     "metadata": {},
     "output_type": "execute_result"
    }
   ],
   "source": [
    "turnstiles_daily.count()"
   ]
  },
  {
   "cell_type": "code",
   "execution_count": 28,
   "metadata": {},
   "outputs": [
    {
     "data": {
      "text/plain": [
       "CA                        752\n",
       "UNIT                      752\n",
       "SCP                       752\n",
       "STATION                   752\n",
       "DATE                      752\n",
       "ENTRIES                   752\n",
       "datetime                  752\n",
       "turnstile_id              752\n",
       "PREV_DATE                 752\n",
       "PREV_ENTRIES              752\n",
       "day_minus_prev_entries    752\n",
       "dtype: int64"
      ]
     },
     "execution_count": 28,
     "metadata": {},
     "output_type": "execute_result"
    }
   ],
   "source": [
    "turnstiles_daily[turnstiles_daily.day_minus_prev_entries < 0].count()"
   ]
  },
  {
   "cell_type": "markdown",
   "metadata": {},
   "source": [
    "What percentage of data do we lose if we through out the negative values?"
   ]
  },
  {
   "cell_type": "code",
   "execution_count": 29,
   "metadata": {},
   "outputs": [
    {
     "data": {
      "text/plain": [
       "0.012346287084010574"
      ]
     },
     "execution_count": 29,
     "metadata": {},
     "output_type": "execute_result"
    }
   ],
   "source": [
    "752 / 60909"
   ]
  },
  {
   "cell_type": "markdown",
   "metadata": {},
   "source": [
    "We would lose 1.2%. I'm okay with that.\n",
    "Eliminate negative values of day_minus_prev_entries"
   ]
  },
  {
   "cell_type": "code",
   "execution_count": 30,
   "metadata": {},
   "outputs": [
    {
     "data": {
      "text/html": [
       "<div>\n",
       "<style scoped>\n",
       "    .dataframe tbody tr th:only-of-type {\n",
       "        vertical-align: middle;\n",
       "    }\n",
       "\n",
       "    .dataframe tbody tr th {\n",
       "        vertical-align: top;\n",
       "    }\n",
       "\n",
       "    .dataframe thead th {\n",
       "        text-align: right;\n",
       "    }\n",
       "</style>\n",
       "<table border=\"1\" class=\"dataframe\">\n",
       "  <thead>\n",
       "    <tr style=\"text-align: right;\">\n",
       "      <th></th>\n",
       "      <th>CA</th>\n",
       "      <th>UNIT</th>\n",
       "      <th>SCP</th>\n",
       "      <th>STATION</th>\n",
       "      <th>DATE</th>\n",
       "      <th>ENTRIES</th>\n",
       "      <th>datetime</th>\n",
       "      <th>turnstile_id</th>\n",
       "      <th>PREV_DATE</th>\n",
       "      <th>PREV_ENTRIES</th>\n",
       "      <th>day_minus_prev_entries</th>\n",
       "    </tr>\n",
       "  </thead>\n",
       "  <tbody>\n",
       "    <tr>\n",
       "      <th>1</th>\n",
       "      <td>A002</td>\n",
       "      <td>R051</td>\n",
       "      <td>02-00-00</td>\n",
       "      <td>59 ST</td>\n",
       "      <td>2019-03-31</td>\n",
       "      <td>6999957</td>\n",
       "      <td>2019-03-30</td>\n",
       "      <td>A002R05102-00-00</td>\n",
       "      <td>2019-03-30</td>\n",
       "      <td>6999064.0</td>\n",
       "      <td>893.0</td>\n",
       "    </tr>\n",
       "    <tr>\n",
       "      <th>2</th>\n",
       "      <td>A002</td>\n",
       "      <td>R051</td>\n",
       "      <td>02-00-00</td>\n",
       "      <td>59 ST</td>\n",
       "      <td>2019-04-01</td>\n",
       "      <td>7000528</td>\n",
       "      <td>2019-03-31</td>\n",
       "      <td>A002R05102-00-00</td>\n",
       "      <td>2019-03-31</td>\n",
       "      <td>6999957.0</td>\n",
       "      <td>571.0</td>\n",
       "    </tr>\n",
       "    <tr>\n",
       "      <th>3</th>\n",
       "      <td>A002</td>\n",
       "      <td>R051</td>\n",
       "      <td>02-00-00</td>\n",
       "      <td>59 ST</td>\n",
       "      <td>2019-04-02</td>\n",
       "      <td>7002087</td>\n",
       "      <td>2019-04-01</td>\n",
       "      <td>A002R05102-00-00</td>\n",
       "      <td>2019-04-01</td>\n",
       "      <td>7000528.0</td>\n",
       "      <td>1559.0</td>\n",
       "    </tr>\n",
       "    <tr>\n",
       "      <th>4</th>\n",
       "      <td>A002</td>\n",
       "      <td>R051</td>\n",
       "      <td>02-00-00</td>\n",
       "      <td>59 ST</td>\n",
       "      <td>2019-04-03</td>\n",
       "      <td>7003680</td>\n",
       "      <td>2019-04-02</td>\n",
       "      <td>A002R05102-00-00</td>\n",
       "      <td>2019-04-02</td>\n",
       "      <td>7002087.0</td>\n",
       "      <td>1593.0</td>\n",
       "    </tr>\n",
       "    <tr>\n",
       "      <th>5</th>\n",
       "      <td>A002</td>\n",
       "      <td>R051</td>\n",
       "      <td>02-00-00</td>\n",
       "      <td>59 ST</td>\n",
       "      <td>2019-04-04</td>\n",
       "      <td>7005332</td>\n",
       "      <td>2019-04-03</td>\n",
       "      <td>A002R05102-00-00</td>\n",
       "      <td>2019-04-03</td>\n",
       "      <td>7003680.0</td>\n",
       "      <td>1652.0</td>\n",
       "    </tr>\n",
       "  </tbody>\n",
       "</table>\n",
       "</div>"
      ],
      "text/plain": [
       "     CA  UNIT       SCP STATION       DATE  ENTRIES   datetime  \\\n",
       "1  A002  R051  02-00-00   59 ST 2019-03-31  6999957 2019-03-30   \n",
       "2  A002  R051  02-00-00   59 ST 2019-04-01  7000528 2019-03-31   \n",
       "3  A002  R051  02-00-00   59 ST 2019-04-02  7002087 2019-04-01   \n",
       "4  A002  R051  02-00-00   59 ST 2019-04-03  7003680 2019-04-02   \n",
       "5  A002  R051  02-00-00   59 ST 2019-04-04  7005332 2019-04-03   \n",
       "\n",
       "       turnstile_id  PREV_DATE  PREV_ENTRIES  day_minus_prev_entries  \n",
       "1  A002R05102-00-00 2019-03-30     6999064.0                   893.0  \n",
       "2  A002R05102-00-00 2019-03-31     6999957.0                   571.0  \n",
       "3  A002R05102-00-00 2019-04-01     7000528.0                  1559.0  \n",
       "4  A002R05102-00-00 2019-04-02     7002087.0                  1593.0  \n",
       "5  A002R05102-00-00 2019-04-03     7003680.0                  1652.0  "
      ]
     },
     "execution_count": 30,
     "metadata": {},
     "output_type": "execute_result"
    }
   ],
   "source": [
    "turnstiles_daily = turnstiles_daily[turnstiles_daily.day_minus_prev_entries > 0]\n",
    "turnstiles_daily.head()"
   ]
  },
  {
   "cell_type": "markdown",
   "metadata": {},
   "source": [
    "Looking at this data, the day_minus_prev_entries column tells us how many peole entered on a given day at a given turnstile.\n",
    "Now, I'd like to group by station and sum over date to get total entries"
   ]
  },
  {
   "cell_type": "code",
   "execution_count": 38,
   "metadata": {},
   "outputs": [
    {
     "data": {
      "text/plain": [
       "STATION\n",
       "GRD CNTRL-42 ST    312007842.0\n",
       "CARROLL ST         147348187.0\n",
       "34 ST-PENN STA       2783315.0\n",
       "34 ST-HERALD SQ      2756639.0\n",
       "TIMES SQ-42 ST       2441108.0\n",
       "59 ST COLUMBUS       1813923.0\n",
       "23 ST                1637758.0\n",
       "CHAMBERS ST          1360505.0\n",
       "42 ST-PORT AUTH      1346362.0\n",
       "47-50 STS ROCK       1318065.0\n",
       "59 ST                1271166.0\n",
       "50 ST                1236672.0\n",
       "86 ST                1222671.0\n",
       "JKSN HT-ROOSVLT      1215876.0\n",
       "JAY ST-METROTEC       987458.0\n",
       "42 ST-BRYANT PK       933867.0\n",
       "14 ST                 922678.0\n",
       "ATL AV-BARCLAY        909274.0\n",
       "FLUSHING-MAIN         896817.0\n",
       "LEXINGTON AV/53       884524.0\n",
       "Name: day_minus_prev_entries, dtype: float64"
      ]
     },
     "execution_count": 38,
     "metadata": {},
     "output_type": "execute_result"
    }
   ],
   "source": [
    "turnstiles_daily.groupby('STATION').day_minus_prev_entries.sum().sort_values(ascending=False).head(20)"
   ]
  },
  {
   "cell_type": "code",
   "execution_count": null,
   "metadata": {},
   "outputs": [],
   "source": []
  }
 ],
 "metadata": {
  "kernelspec": {
   "display_name": "Python 3",
   "language": "python",
   "name": "python3"
  },
  "language_info": {
   "codemirror_mode": {
    "name": "ipython",
    "version": 3
   },
   "file_extension": ".py",
   "mimetype": "text/x-python",
   "name": "python",
   "nbconvert_exporter": "python",
   "pygments_lexer": "ipython3",
   "version": "3.7.4"
  },
  "pycharm": {
   "stem_cell": {
    "cell_type": "raw",
    "metadata": {
     "collapsed": false
    },
    "source": []
   }
  }
 },
 "nbformat": 4,
 "nbformat_minor": 2
}
