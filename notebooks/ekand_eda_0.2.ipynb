{
 "cells": [
  {
   "cell_type": "code",
   "execution_count": 1,
   "metadata": {},
   "outputs": [],
   "source": [
    "import pandas as pd\n",
    "import numpy as np\n",
    "%matplotlib inline\n",
    "import matplotlib.pyplot as plt\n",
    "import matplotlib.dates as mdates\n",
    "\n",
    "\n",
    "import sys\n",
    "sys.path.append('./code')\n",
    "import get_mta_data as gmd\n",
    "import process_mta_data as pmd\n",
    "\n",
    "import datetime"
   ]
  },
  {
   "cell_type": "markdown",
   "metadata": {},
   "source": [
    "## import data"
   ]
  },
  {
   "cell_type": "code",
   "execution_count": 2,
   "metadata": {},
   "outputs": [],
   "source": [
    "mta = gmd.load_local_data([2019], [4])"
   ]
  },
  {
   "cell_type": "markdown",
   "metadata": {},
   "source": [
    "## Tidy up data"
   ]
  },
  {
   "cell_type": "markdown",
   "metadata": {},
   "source": [
    "The functions that are becoming standard for us."
   ]
  },
  {
   "cell_type": "code",
   "execution_count": 3,
   "metadata": {},
   "outputs": [],
   "source": [
    "mta = pmd.clean_col_names(mta)"
   ]
  },
  {
   "cell_type": "code",
   "execution_count": 4,
   "metadata": {},
   "outputs": [],
   "source": [
    "mta = pmd.add_datetime(mta)"
   ]
  },
  {
   "cell_type": "code",
   "execution_count": 5,
   "metadata": {},
   "outputs": [],
   "source": [
    "mta = pmd.convert_date_to_datetime(mta)"
   ]
  },
  {
   "cell_type": "markdown",
   "metadata": {},
   "source": [
    "Remove duplicate values"
   ]
  },
  {
   "cell_type": "code",
   "execution_count": 6,
   "metadata": {},
   "outputs": [
    {
     "data": {
      "text/plain": [
       "REGULAR       747615\n",
       "RECOVR AUD      3621\n",
       "Name: DESC, dtype: int64"
      ]
     },
     "execution_count": 6,
     "metadata": {},
     "output_type": "execute_result"
    }
   ],
   "source": [
    "mta.DESC.value_counts()"
   ]
  },
  {
   "cell_type": "markdown",
   "metadata": {},
   "source": [
    "There are 3621 rows with 'RECOVER AUD'. In Lara's presentation, these were shown to be be duplicates in at least some cases. We will remove them all."
   ]
  },
  {
   "cell_type": "code",
   "execution_count": 7,
   "metadata": {},
   "outputs": [
    {
     "data": {
      "text/plain": [
       "REGULAR    747615\n",
       "Name: DESC, dtype: int64"
      ]
     },
     "execution_count": 7,
     "metadata": {},
     "output_type": "execute_result"
    }
   ],
   "source": [
    "mta = mta[mta.DESC != 'RECOVR AUD']\n",
    "mta.DESC.value_counts()"
   ]
  },
  {
   "cell_type": "markdown",
   "metadata": {},
   "source": [
    "This confirms that the 'RECOVER AUD' entries have been removed"
   ]
  },
  {
   "cell_type": "markdown",
   "metadata": {},
   "source": [
    "Here's what the data looks like now:"
   ]
  },
  {
   "cell_type": "code",
   "execution_count": 8,
   "metadata": {},
   "outputs": [
    {
     "data": {
      "text/html": [
       "<div>\n",
       "<style scoped>\n",
       "    .dataframe tbody tr th:only-of-type {\n",
       "        vertical-align: middle;\n",
       "    }\n",
       "\n",
       "    .dataframe tbody tr th {\n",
       "        vertical-align: top;\n",
       "    }\n",
       "\n",
       "    .dataframe thead th {\n",
       "        text-align: right;\n",
       "    }\n",
       "</style>\n",
       "<table border=\"1\" class=\"dataframe\">\n",
       "  <thead>\n",
       "    <tr style=\"text-align: right;\">\n",
       "      <th></th>\n",
       "      <th>CA</th>\n",
       "      <th>UNIT</th>\n",
       "      <th>SCP</th>\n",
       "      <th>STATION</th>\n",
       "      <th>LINENAME</th>\n",
       "      <th>DIVISION</th>\n",
       "      <th>DATE</th>\n",
       "      <th>TIME</th>\n",
       "      <th>DESC</th>\n",
       "      <th>ENTRIES</th>\n",
       "      <th>EXITS</th>\n",
       "      <th>datetime</th>\n",
       "    </tr>\n",
       "  </thead>\n",
       "  <tbody>\n",
       "    <tr>\n",
       "      <th>0</th>\n",
       "      <td>A002</td>\n",
       "      <td>R051</td>\n",
       "      <td>02-00-00</td>\n",
       "      <td>59 ST</td>\n",
       "      <td>NQR456W</td>\n",
       "      <td>BMT</td>\n",
       "      <td>2019-03-30</td>\n",
       "      <td>00:00:00</td>\n",
       "      <td>REGULAR</td>\n",
       "      <td>6999064</td>\n",
       "      <td>2373568</td>\n",
       "      <td>2019-03-30 00:00:00</td>\n",
       "    </tr>\n",
       "    <tr>\n",
       "      <th>1</th>\n",
       "      <td>A002</td>\n",
       "      <td>R051</td>\n",
       "      <td>02-00-00</td>\n",
       "      <td>59 ST</td>\n",
       "      <td>NQR456W</td>\n",
       "      <td>BMT</td>\n",
       "      <td>2019-03-30</td>\n",
       "      <td>04:00:00</td>\n",
       "      <td>REGULAR</td>\n",
       "      <td>6999084</td>\n",
       "      <td>2373576</td>\n",
       "      <td>2019-03-30 04:00:00</td>\n",
       "    </tr>\n",
       "    <tr>\n",
       "      <th>2</th>\n",
       "      <td>A002</td>\n",
       "      <td>R051</td>\n",
       "      <td>02-00-00</td>\n",
       "      <td>59 ST</td>\n",
       "      <td>NQR456W</td>\n",
       "      <td>BMT</td>\n",
       "      <td>2019-03-30</td>\n",
       "      <td>08:00:00</td>\n",
       "      <td>REGULAR</td>\n",
       "      <td>6999107</td>\n",
       "      <td>2373622</td>\n",
       "      <td>2019-03-30 08:00:00</td>\n",
       "    </tr>\n",
       "    <tr>\n",
       "      <th>3</th>\n",
       "      <td>A002</td>\n",
       "      <td>R051</td>\n",
       "      <td>02-00-00</td>\n",
       "      <td>59 ST</td>\n",
       "      <td>NQR456W</td>\n",
       "      <td>BMT</td>\n",
       "      <td>2019-03-30</td>\n",
       "      <td>12:00:00</td>\n",
       "      <td>REGULAR</td>\n",
       "      <td>6999214</td>\n",
       "      <td>2373710</td>\n",
       "      <td>2019-03-30 12:00:00</td>\n",
       "    </tr>\n",
       "    <tr>\n",
       "      <th>4</th>\n",
       "      <td>A002</td>\n",
       "      <td>R051</td>\n",
       "      <td>02-00-00</td>\n",
       "      <td>59 ST</td>\n",
       "      <td>NQR456W</td>\n",
       "      <td>BMT</td>\n",
       "      <td>2019-03-30</td>\n",
       "      <td>16:00:00</td>\n",
       "      <td>REGULAR</td>\n",
       "      <td>6999451</td>\n",
       "      <td>2373781</td>\n",
       "      <td>2019-03-30 16:00:00</td>\n",
       "    </tr>\n",
       "    <tr>\n",
       "      <th>...</th>\n",
       "      <td>...</td>\n",
       "      <td>...</td>\n",
       "      <td>...</td>\n",
       "      <td>...</td>\n",
       "      <td>...</td>\n",
       "      <td>...</td>\n",
       "      <td>...</td>\n",
       "      <td>...</td>\n",
       "      <td>...</td>\n",
       "      <td>...</td>\n",
       "      <td>...</td>\n",
       "      <td>...</td>\n",
       "    </tr>\n",
       "    <tr>\n",
       "      <th>751231</th>\n",
       "      <td>R161B</td>\n",
       "      <td>R452</td>\n",
       "      <td>00-03-02</td>\n",
       "      <td>72 ST</td>\n",
       "      <td>123</td>\n",
       "      <td>IRT</td>\n",
       "      <td>2019-04-25</td>\n",
       "      <td>01:00:00</td>\n",
       "      <td>REGULAR</td>\n",
       "      <td>20605432</td>\n",
       "      <td>8466842</td>\n",
       "      <td>2019-04-25 01:00:00</td>\n",
       "    </tr>\n",
       "    <tr>\n",
       "      <th>751232</th>\n",
       "      <td>R161B</td>\n",
       "      <td>R452</td>\n",
       "      <td>00-03-02</td>\n",
       "      <td>72 ST</td>\n",
       "      <td>123</td>\n",
       "      <td>IRT</td>\n",
       "      <td>2019-04-25</td>\n",
       "      <td>05:00:00</td>\n",
       "      <td>REGULAR</td>\n",
       "      <td>20605443</td>\n",
       "      <td>8466850</td>\n",
       "      <td>2019-04-25 05:00:00</td>\n",
       "    </tr>\n",
       "    <tr>\n",
       "      <th>751233</th>\n",
       "      <td>R161B</td>\n",
       "      <td>R452</td>\n",
       "      <td>00-03-02</td>\n",
       "      <td>72 ST</td>\n",
       "      <td>123</td>\n",
       "      <td>IRT</td>\n",
       "      <td>2019-04-25</td>\n",
       "      <td>09:00:00</td>\n",
       "      <td>REGULAR</td>\n",
       "      <td>20606268</td>\n",
       "      <td>8467023</td>\n",
       "      <td>2019-04-25 09:00:00</td>\n",
       "    </tr>\n",
       "    <tr>\n",
       "      <th>751234</th>\n",
       "      <td>R161B</td>\n",
       "      <td>R452</td>\n",
       "      <td>00-03-02</td>\n",
       "      <td>72 ST</td>\n",
       "      <td>123</td>\n",
       "      <td>IRT</td>\n",
       "      <td>2019-04-25</td>\n",
       "      <td>13:00:00</td>\n",
       "      <td>REGULAR</td>\n",
       "      <td>20607206</td>\n",
       "      <td>8467308</td>\n",
       "      <td>2019-04-25 13:00:00</td>\n",
       "    </tr>\n",
       "    <tr>\n",
       "      <th>751235</th>\n",
       "      <td>R161B</td>\n",
       "      <td>R452</td>\n",
       "      <td>00-03-02</td>\n",
       "      <td>72 ST</td>\n",
       "      <td>123</td>\n",
       "      <td>IRT</td>\n",
       "      <td>2019-04-25</td>\n",
       "      <td>17:00:00</td>\n",
       "      <td>REGULAR</td>\n",
       "      <td>20608078</td>\n",
       "      <td>8467619</td>\n",
       "      <td>2019-04-25 17:00:00</td>\n",
       "    </tr>\n",
       "  </tbody>\n",
       "</table>\n",
       "<p>747615 rows × 12 columns</p>\n",
       "</div>"
      ],
      "text/plain": [
       "           CA  UNIT       SCP STATION LINENAME DIVISION       DATE      TIME  \\\n",
       "0        A002  R051  02-00-00   59 ST  NQR456W      BMT 2019-03-30  00:00:00   \n",
       "1        A002  R051  02-00-00   59 ST  NQR456W      BMT 2019-03-30  04:00:00   \n",
       "2        A002  R051  02-00-00   59 ST  NQR456W      BMT 2019-03-30  08:00:00   \n",
       "3        A002  R051  02-00-00   59 ST  NQR456W      BMT 2019-03-30  12:00:00   \n",
       "4        A002  R051  02-00-00   59 ST  NQR456W      BMT 2019-03-30  16:00:00   \n",
       "...       ...   ...       ...     ...      ...      ...        ...       ...   \n",
       "751231  R161B  R452  00-03-02   72 ST      123      IRT 2019-04-25  01:00:00   \n",
       "751232  R161B  R452  00-03-02   72 ST      123      IRT 2019-04-25  05:00:00   \n",
       "751233  R161B  R452  00-03-02   72 ST      123      IRT 2019-04-25  09:00:00   \n",
       "751234  R161B  R452  00-03-02   72 ST      123      IRT 2019-04-25  13:00:00   \n",
       "751235  R161B  R452  00-03-02   72 ST      123      IRT 2019-04-25  17:00:00   \n",
       "\n",
       "           DESC   ENTRIES    EXITS            datetime  \n",
       "0       REGULAR   6999064  2373568 2019-03-30 00:00:00  \n",
       "1       REGULAR   6999084  2373576 2019-03-30 04:00:00  \n",
       "2       REGULAR   6999107  2373622 2019-03-30 08:00:00  \n",
       "3       REGULAR   6999214  2373710 2019-03-30 12:00:00  \n",
       "4       REGULAR   6999451  2373781 2019-03-30 16:00:00  \n",
       "...         ...       ...      ...                 ...  \n",
       "751231  REGULAR  20605432  8466842 2019-04-25 01:00:00  \n",
       "751232  REGULAR  20605443  8466850 2019-04-25 05:00:00  \n",
       "751233  REGULAR  20606268  8467023 2019-04-25 09:00:00  \n",
       "751234  REGULAR  20607206  8467308 2019-04-25 13:00:00  \n",
       "751235  REGULAR  20608078  8467619 2019-04-25 17:00:00  \n",
       "\n",
       "[747615 rows x 12 columns]"
      ]
     },
     "execution_count": 8,
     "metadata": {},
     "output_type": "execute_result"
    }
   ],
   "source": [
    "mta"
   ]
  },
  {
   "cell_type": "markdown",
   "metadata": {},
   "source": [
    "Let's check datetime for value counts"
   ]
  },
  {
   "cell_type": "code",
   "execution_count": 9,
   "metadata": {},
   "outputs": [
    {
     "data": {
      "text/plain": [
       "2019-04-01 16:00:00    2480\n",
       "2019-04-03 12:00:00    2480\n",
       "2019-04-04 08:00:00    2480\n",
       "2019-03-31 20:00:00    2480\n",
       "2019-03-31 16:00:00    2480\n",
       "                       ... \n",
       "2019-04-18 02:03:31       1\n",
       "2019-04-10 20:33:25       1\n",
       "2019-04-02 04:48:27       1\n",
       "2019-03-31 06:21:57       1\n",
       "2019-04-05 11:19:48       1\n",
       "Name: datetime, Length: 53309, dtype: int64"
      ]
     },
     "execution_count": 9,
     "metadata": {},
     "output_type": "execute_result"
    }
   ],
   "source": [
    "mta.datetime.value_counts()"
   ]
  },
  {
   "cell_type": "markdown",
   "metadata": {},
   "source": [
    "This shows that there are some entries at odd times. There appear to be more at standardized times.  \n",
    "So, let's isolate those at 00:00:00 time"
   ]
  },
  {
   "cell_type": "code",
   "execution_count": 19,
   "metadata": {},
   "outputs": [],
   "source": [
    "mask = mta['TIME'] == \"00:00:00\"\n",
    "mta_midnight = mta[mask]"
   ]
  },
  {
   "cell_type": "code",
   "execution_count": 39,
   "metadata": {},
   "outputs": [
    {
     "data": {
      "text/html": [
       "<div>\n",
       "<style scoped>\n",
       "    .dataframe tbody tr th:only-of-type {\n",
       "        vertical-align: middle;\n",
       "    }\n",
       "\n",
       "    .dataframe tbody tr th {\n",
       "        vertical-align: top;\n",
       "    }\n",
       "\n",
       "    .dataframe thead th {\n",
       "        text-align: right;\n",
       "    }\n",
       "</style>\n",
       "<table border=\"1\" class=\"dataframe\">\n",
       "  <thead>\n",
       "    <tr style=\"text-align: right;\">\n",
       "      <th></th>\n",
       "      <th></th>\n",
       "      <th></th>\n",
       "      <th></th>\n",
       "      <th></th>\n",
       "      <th>LINENAME</th>\n",
       "      <th>DIVISION</th>\n",
       "      <th>TIME</th>\n",
       "      <th>DESC</th>\n",
       "      <th>ENTRIES</th>\n",
       "      <th>EXITS</th>\n",
       "      <th>datetime</th>\n",
       "    </tr>\n",
       "    <tr>\n",
       "      <th>CA</th>\n",
       "      <th>UNIT</th>\n",
       "      <th>SCP</th>\n",
       "      <th>STATION</th>\n",
       "      <th>DATE</th>\n",
       "      <th></th>\n",
       "      <th></th>\n",
       "      <th></th>\n",
       "      <th></th>\n",
       "      <th></th>\n",
       "      <th></th>\n",
       "      <th></th>\n",
       "    </tr>\n",
       "  </thead>\n",
       "  <tbody>\n",
       "    <tr>\n",
       "      <th rowspan=\"5\" valign=\"top\">A002</th>\n",
       "      <th rowspan=\"5\" valign=\"top\">R051</th>\n",
       "      <th rowspan=\"5\" valign=\"top\">02-00-00</th>\n",
       "      <th rowspan=\"5\" valign=\"top\">59 ST</th>\n",
       "      <th>2019-03-30</th>\n",
       "      <td>NQR456W</td>\n",
       "      <td>BMT</td>\n",
       "      <td>00:00:00</td>\n",
       "      <td>REGULAR</td>\n",
       "      <td>6999064</td>\n",
       "      <td>2373568</td>\n",
       "      <td>2019-03-30</td>\n",
       "    </tr>\n",
       "    <tr>\n",
       "      <th>2019-03-31</th>\n",
       "      <td>NQR456W</td>\n",
       "      <td>BMT</td>\n",
       "      <td>00:00:00</td>\n",
       "      <td>REGULAR</td>\n",
       "      <td>6999957</td>\n",
       "      <td>2373867</td>\n",
       "      <td>2019-03-31</td>\n",
       "    </tr>\n",
       "    <tr>\n",
       "      <th>2019-04-01</th>\n",
       "      <td>NQR456W</td>\n",
       "      <td>BMT</td>\n",
       "      <td>00:00:00</td>\n",
       "      <td>REGULAR</td>\n",
       "      <td>7000528</td>\n",
       "      <td>2374095</td>\n",
       "      <td>2019-04-01</td>\n",
       "    </tr>\n",
       "    <tr>\n",
       "      <th>2019-04-02</th>\n",
       "      <td>NQR456W</td>\n",
       "      <td>BMT</td>\n",
       "      <td>00:00:00</td>\n",
       "      <td>REGULAR</td>\n",
       "      <td>7002087</td>\n",
       "      <td>2374579</td>\n",
       "      <td>2019-04-02</td>\n",
       "    </tr>\n",
       "    <tr>\n",
       "      <th>2019-04-03</th>\n",
       "      <td>NQR456W</td>\n",
       "      <td>BMT</td>\n",
       "      <td>00:00:00</td>\n",
       "      <td>REGULAR</td>\n",
       "      <td>7003680</td>\n",
       "      <td>2375133</td>\n",
       "      <td>2019-04-03</td>\n",
       "    </tr>\n",
       "  </tbody>\n",
       "</table>\n",
       "</div>"
      ],
      "text/plain": [
       "                                      LINENAME DIVISION      TIME     DESC  \\\n",
       "CA   UNIT SCP      STATION DATE                                              \n",
       "A002 R051 02-00-00 59 ST   2019-03-30  NQR456W      BMT  00:00:00  REGULAR   \n",
       "                           2019-03-31  NQR456W      BMT  00:00:00  REGULAR   \n",
       "                           2019-04-01  NQR456W      BMT  00:00:00  REGULAR   \n",
       "                           2019-04-02  NQR456W      BMT  00:00:00  REGULAR   \n",
       "                           2019-04-03  NQR456W      BMT  00:00:00  REGULAR   \n",
       "\n",
       "                                       ENTRIES    EXITS   datetime  \n",
       "CA   UNIT SCP      STATION DATE                                     \n",
       "A002 R051 02-00-00 59 ST   2019-03-30  6999064  2373568 2019-03-30  \n",
       "                           2019-03-31  6999957  2373867 2019-03-31  \n",
       "                           2019-04-01  7000528  2374095 2019-04-01  \n",
       "                           2019-04-02  7002087  2374579 2019-04-02  \n",
       "                           2019-04-03  7003680  2375133 2019-04-03  "
      ]
     },
     "execution_count": 39,
     "metadata": {},
     "output_type": "execute_result"
    }
   ],
   "source": [
    "mta_midnight.groupby([\"CA\", \"UNIT\", \"SCP\", \"STATION\", \"DATE\"]).nth(0).head()"
   ]
  },
  {
   "cell_type": "code",
   "execution_count": 40,
   "metadata": {},
   "outputs": [
    {
     "data": {
      "text/html": [
       "<div>\n",
       "<style scoped>\n",
       "    .dataframe tbody tr th:only-of-type {\n",
       "        vertical-align: middle;\n",
       "    }\n",
       "\n",
       "    .dataframe tbody tr th {\n",
       "        vertical-align: top;\n",
       "    }\n",
       "\n",
       "    .dataframe thead th {\n",
       "        text-align: right;\n",
       "    }\n",
       "</style>\n",
       "<table border=\"1\" class=\"dataframe\">\n",
       "  <thead>\n",
       "    <tr style=\"text-align: right;\">\n",
       "      <th></th>\n",
       "      <th></th>\n",
       "      <th></th>\n",
       "      <th></th>\n",
       "      <th></th>\n",
       "      <th>LINENAME</th>\n",
       "      <th>DIVISION</th>\n",
       "      <th>TIME</th>\n",
       "      <th>DESC</th>\n",
       "      <th>ENTRIES</th>\n",
       "      <th>EXITS</th>\n",
       "      <th>datetime</th>\n",
       "    </tr>\n",
       "    <tr>\n",
       "      <th>CA</th>\n",
       "      <th>UNIT</th>\n",
       "      <th>SCP</th>\n",
       "      <th>STATION</th>\n",
       "      <th>DATE</th>\n",
       "      <th></th>\n",
       "      <th></th>\n",
       "      <th></th>\n",
       "      <th></th>\n",
       "      <th></th>\n",
       "      <th></th>\n",
       "      <th></th>\n",
       "    </tr>\n",
       "  </thead>\n",
       "  <tbody>\n",
       "  </tbody>\n",
       "</table>\n",
       "</div>"
      ],
      "text/plain": [
       "Empty DataFrame\n",
       "Columns: [LINENAME, DIVISION, TIME, DESC, ENTRIES, EXITS, datetime]\n",
       "Index: []"
      ]
     },
     "execution_count": 40,
     "metadata": {},
     "output_type": "execute_result"
    }
   ],
   "source": [
    "mta_midnight.groupby([\"CA\", \"UNIT\", \"SCP\", \"STATION\", \"DATE\"]).nth(1).head()"
   ]
  },
  {
   "cell_type": "markdown",
   "metadata": {},
   "source": [
    "This suggests that, for midnight only entries, there are no duplicate entries"
   ]
  },
  {
   "cell_type": "code",
   "execution_count": null,
   "metadata": {},
   "outputs": [],
   "source": []
  }
 ],
 "metadata": {
  "kernelspec": {
   "display_name": "Python 3",
   "language": "python",
   "name": "python3"
  },
  "language_info": {
   "codemirror_mode": {
    "name": "ipython",
    "version": 3
   },
   "file_extension": ".py",
   "mimetype": "text/x-python",
   "name": "python",
   "nbconvert_exporter": "python",
   "pygments_lexer": "ipython3",
   "version": "3.7.4"
  },
  "pycharm": {
   "stem_cell": {
    "cell_type": "raw",
    "metadata": {
     "collapsed": false
    },
    "source": []
   }
  }
 },
 "nbformat": 4,
 "nbformat_minor": 2
}
